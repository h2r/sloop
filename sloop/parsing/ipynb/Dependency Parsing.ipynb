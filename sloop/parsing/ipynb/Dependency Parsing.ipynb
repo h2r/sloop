{
 "cells": [
  {
   "cell_type": "code",
   "execution_count": 1,
   "metadata": {},
   "outputs": [],
   "source": [
    "%load_ext autoreload\n",
    "%autoreload 2\n",
    "%matplotlib inline"
   ]
  },
  {
   "cell_type": "code",
   "execution_count": 15,
   "metadata": {},
   "outputs": [
    {
     "name": "stdout",
     "output_type": "stream",
     "text": [
      "/home/kaiyuzh/repo/spatial-lang/spatial_lang/parsing/thirdparty/biaffine-dependency-parser-ptb-2018.08.23.tar.gz\n"
     ]
    }
   ],
   "source": [
    "import csv\n",
    "import argparse\n",
    "import json\n",
    "import spacy\n",
    "from pprint import pprint\n",
    "import spatial_lang.parsing.spacy_utils as sputils\n",
    "from spatial_lang.parsing.parser import *\n",
    "import os\n",
    "ABS_PATH = os.path.abspath('../')\n",
    "BIAFF_MODEL_PATH = os.path.join(ABS_PATH,\n",
    "                                \"thirdparty/biaffine-dependency-parser-ptb-2018.08.23.tar.gz\")\n",
    "print(BIAFF_MODEL_PATH)\n",
    "if not os.path.exists(BIAFF_MODEL_PATH):\n",
    "    print(\"You don't have the allennlp model for dependency parsing. Run:\\n\\n\"\\\n",
    "          \"wget https://s3-us-west-2.amazonaws.com/allennlp/models/biaffine-dependency-parser-ptb-2018.08.23.tar.gz\\n\\n\"\\\n",
    "          \"and place this file under the parsing/thirdparty directory\")\n",
    "from allennlp.predictors.predictor import Predictor\n",
    "from spatial_lang.parsing.deptree import *"
   ]
  },
  {
   "cell_type": "code",
   "execution_count": 16,
   "metadata": {
    "scrolled": true
   },
   "outputs": [
    {
     "name": "stderr",
     "output_type": "stream",
     "text": [
      "Did not use initialization regex that was passed: .*weight_ih.*\n",
      "Did not use initialization regex that was passed: .*weight_hh.*\n",
      "Did not use initialization regex that was passed: .*bias_ih.*\n",
      "Did not use initialization regex that was passed: .*bias_hh.*\n"
     ]
    }
   ],
   "source": [
    "allennlp_predictor = Predictor.from_path(BIAFF_MODEL_PATH)"
   ]
  },
  {
   "cell_type": "code",
   "execution_count": 17,
   "metadata": {},
   "outputs": [],
   "source": [
    "spacy_model = spacy.load(\"en_core_web_md\")"
   ]
  },
  {
   "cell_type": "code",
   "execution_count": 18,
   "metadata": {},
   "outputs": [],
   "source": [
    "def try_lang(lang, map_name):\n",
    "    kwfile = \"../../data/language/symbol_to_synonyms.json\"\n",
    "    sg = parse(lang, map_name, kwfile,\n",
    "                spacy_model=spacy_model,\n",
    "                verbose_level=1)\n",
    "    print(\"---Edges---\")\n",
    "    print(sg.edges)\n",
    "    print(\"---Graph to Dict---\")\n",
    "    pprint(sg.to_dict())"
   ]
  },
  {
   "cell_type": "markdown",
   "metadata": {},
   "source": [
    "### Sentence 1: The red bicycle is in the middle of the 7 eleven and CVS inside the building."
   ]
  },
  {
   "cell_type": "code",
   "execution_count": 19,
   "metadata": {},
   "outputs": [],
   "source": [
    "lang1=\"The red bicycle is in the middle of the 7 eleven and CVS inside the building.\""
   ]
  },
  {
   "cell_type": "markdown",
   "metadata": {},
   "source": [
    "Note that the \"sg\" is a spatial graph, which can be **constructed from a dictionary** (in the format of the JSON file)."
   ]
  },
  {
   "cell_type": "code",
   "execution_count": 20,
   "metadata": {},
   "outputs": [
    {
     "name": "stdout",
     "output_type": "stream",
     "text": [
      "Swapping:\n",
      "  before swap: \"The red bicycle is in the middle of the 7 eleven and CVS inside the building.\"\n",
      "  after swap: \"The red bicycle is in the middle of the 7 eleven and CVS inside the building.\"\n",
      "Substituting symbols back to original sentence:\n",
      "  \"The RedBike is in the with middle of SevenEleven and CVS with inside of the building.\"\n",
      "\n",
      "Subdoc 0: The red bicycle is in the middle of the 7 eleven and CVS inside the building.\n",
      "Using new doc? False\n",
      "Swapping:\n",
      "  before swap: \"The red bicycle is in the middle of the 7 eleven and CVS inside the building.\"\n",
      "  after swap: \"The red bicycle is in the middle of the 7 eleven and CVS inside the building.\"\n"
     ]
    },
    {
     "name": "stderr",
     "output_type": "stream",
     "text": [
      "/usr/local/lib/python3.7/runpy.py:193: UserWarning: [W008] Evaluating Span.similarity based on empty vectors.\n",
      "  \"__main__\", mod_spec)\n",
      "/usr/local/lib/python3.7/runpy.py:193: UserWarning: [W008] Evaluating Span.similarity based on empty vectors.\n",
      "  \"__main__\", mod_spec)\n",
      "/usr/local/lib/python3.7/runpy.py:193: UserWarning: [W008] Evaluating Span.similarity based on empty vectors.\n",
      "  \"__main__\", mod_spec)\n",
      "/usr/local/lib/python3.7/runpy.py:193: UserWarning: [W008] Evaluating Span.similarity based on empty vectors.\n",
      "  \"__main__\", mod_spec)\n",
      "/usr/local/lib/python3.7/runpy.py:193: UserWarning: [W008] Evaluating Span.similarity based on empty vectors.\n",
      "  \"__main__\", mod_spec)\n",
      "/usr/local/lib/python3.7/runpy.py:193: UserWarning: [W008] Evaluating Span.similarity based on empty vectors.\n",
      "  \"__main__\", mod_spec)\n",
      "/usr/local/lib/python3.7/runpy.py:193: UserWarning: [W008] Evaluating Span.similarity based on empty vectors.\n",
      "  \"__main__\", mod_spec)\n",
      "/usr/local/lib/python3.7/runpy.py:193: UserWarning: [W008] Evaluating Span.similarity based on empty vectors.\n",
      "  \"__main__\", mod_spec)\n",
      "/usr/local/lib/python3.7/runpy.py:193: UserWarning: [W008] Evaluating Span.similarity based on empty vectors.\n",
      "  \"__main__\", mod_spec)\n",
      "/usr/local/lib/python3.7/runpy.py:193: UserWarning: [W008] Evaluating Span.similarity based on empty vectors.\n",
      "  \"__main__\", mod_spec)\n",
      "/usr/local/lib/python3.7/runpy.py:193: UserWarning: [W008] Evaluating Span.similarity based on empty vectors.\n",
      "  \"__main__\", mod_spec)\n",
      "/usr/local/lib/python3.7/runpy.py:193: UserWarning: [W008] Evaluating Span.similarity based on empty vectors.\n",
      "  \"__main__\", mod_spec)\n",
      "/usr/local/lib/python3.7/runpy.py:193: UserWarning: [W008] Evaluating Span.similarity based on empty vectors.\n",
      "  \"__main__\", mod_spec)\n",
      "/usr/local/lib/python3.7/runpy.py:193: UserWarning: [W008] Evaluating Span.similarity based on empty vectors.\n",
      "  \"__main__\", mod_spec)\n",
      "/usr/local/lib/python3.7/runpy.py:193: UserWarning: [W008] Evaluating Span.similarity based on empty vectors.\n",
      "  \"__main__\", mod_spec)\n"
     ]
    },
    {
     "name": "stdout",
     "output_type": "stream",
     "text": [
      "Substituting symbols back to original sentence:\n",
      "  \"The RedBike is in the with middle of SevenEleven and CVS with inside of the building.\"\n",
      "[('RedBike', red bicycle)]\n",
      "[('SevenEleven', the 7 eleven), ('CVS', CVS)]\n",
      "Printing dependency tree\n",
      "                              (ROOT) is                                              \n",
      "  ________________________________|___________                                        \n",
      " |         |            |                (prep) with                                 \n",
      " |         |            |                     |                                       \n",
      " |         |            |               (pobj) middle                                \n",
      " |         |            |          ___________|________________                       \n",
      " |         |            |         |           |            (conj) CVS                \n",
      " |         |            |         |           |         _______|_____________         \n",
      " |         |            |         |           |        |              (advmod) inside\n",
      " |         |            |         |           |        |                     |        \n",
      " |         |            |         |           |        |                 (prep) of   \n",
      " |         |            |         |           |        |                     |        \n",
      " |  (nsubj) RedBike (prep) in     |       (prep) of    |              (pobj) building\n",
      " |         |            |         |           |        |                     |        \n",
      " .        The          the       and     SevenEleven  with                  the      \n",
      "\n",
      "Spatial Graph for Subdoc 0\n",
      "{'entities': ['CVS', 'SevenEleven', 'RedBike'], 'relations': [('RedBike', 'SevenEleven', 'is with middle of'), ('RedBike', 'CVS', 'is with middle')], 'lang': 'The RedBike is in the with middle of SevenEleven and CVS with inside of the building.'}\n",
      "---Edges---\n",
      "{1: #1[<#2(RedBike)>is with middle of<#1(SevenEleven)>], 0: #0[<#2(RedBike)>is with middle<#0(CVS)>]}\n",
      "---Graph to Dict---\n",
      "{'entities': ['CVS', 'SevenEleven', 'RedBike'],\n",
      " 'lang': 'The RedBike is in the with middle of SevenEleven and CVS with inside '\n",
      "         'of the building.',\n",
      " 'relations': [('RedBike', 'CVS', 'is with middle'),\n",
      "               ('RedBike', 'SevenEleven', 'is with middle of')]}\n"
     ]
    },
    {
     "name": "stderr",
     "output_type": "stream",
     "text": [
      "/usr/local/lib/python3.7/runpy.py:193: UserWarning: [W008] Evaluating Span.similarity based on empty vectors.\n",
      "  \"__main__\", mod_spec)\n",
      "/usr/local/lib/python3.7/runpy.py:193: UserWarning: [W008] Evaluating Span.similarity based on empty vectors.\n",
      "  \"__main__\", mod_spec)\n",
      "/usr/local/lib/python3.7/runpy.py:193: UserWarning: [W008] Evaluating Span.similarity based on empty vectors.\n",
      "  \"__main__\", mod_spec)\n",
      "/usr/local/lib/python3.7/runpy.py:193: UserWarning: [W008] Evaluating Span.similarity based on empty vectors.\n",
      "  \"__main__\", mod_spec)\n",
      "/usr/local/lib/python3.7/runpy.py:193: UserWarning: [W008] Evaluating Span.similarity based on empty vectors.\n",
      "  \"__main__\", mod_spec)\n"
     ]
    }
   ],
   "source": [
    "try_lang(lang1, \"dorrance\")"
   ]
  },
  {
   "cell_type": "markdown",
   "metadata": {},
   "source": [
    "This sentence does not make sense grammatically and doesn't make sense in terms of matching with the map. So, I'll disregard this example. The end result of this parse is actually not too bad."
   ]
  },
  {
   "cell_type": "markdown",
   "metadata": {},
   "source": [
    "### Sentence 2: the bike is southwest of dorrance street and northwest of providence hall, the bike is also directly south of the robot"
   ]
  },
  {
   "cell_type": "code",
   "execution_count": 21,
   "metadata": {},
   "outputs": [],
   "source": [
    "lang2=\"the bike is southwest of dorrance street, and is northwest of providence hall, the bike is also directly south of the robot\""
   ]
  },
  {
   "cell_type": "code",
   "execution_count": 23,
   "metadata": {},
   "outputs": [
    {
     "name": "stdout",
     "output_type": "stream",
     "text": [
      "Swapping:\n",
      "  before swap: \"the bike is southwest of dorrance street, and is northwest of providence hall, the bike is also directly south of the robot\"\n",
      "  after swap: \"the bike is southwest of dorrance street, and is northwest of providence hall, the bike is also directly south of the robot\"\n",
      "Substituting symbols back to original sentence:\n",
      "  \"the RedBike is with southwest of DorranceSt, and is with northwest of ProvidenceHall, the RedBike is also directly with south of Robot\"\n",
      "\n",
      "Subdoc 0: the bike is southwest of dorrance street, and is northwest of providence hall\n",
      "Using new doc? False\n",
      "Swapping:\n",
      "  before swap: \"the bike is southwest of dorrance street, and is northwest of providence hall\"\n",
      "  after swap: \"the bike is southwest of dorrance street, and is northwest of providence hall\"\n"
     ]
    },
    {
     "name": "stderr",
     "output_type": "stream",
     "text": [
      "/usr/local/lib/python3.7/runpy.py:193: UserWarning: [W008] Evaluating Span.similarity based on empty vectors.\n",
      "  \"__main__\", mod_spec)\n",
      "/usr/local/lib/python3.7/runpy.py:193: UserWarning: [W008] Evaluating Span.similarity based on empty vectors.\n",
      "  \"__main__\", mod_spec)\n",
      "/usr/local/lib/python3.7/runpy.py:193: UserWarning: [W008] Evaluating Span.similarity based on empty vectors.\n",
      "  \"__main__\", mod_spec)\n",
      "/usr/local/lib/python3.7/runpy.py:193: UserWarning: [W008] Evaluating Span.similarity based on empty vectors.\n",
      "  \"__main__\", mod_spec)\n",
      "/usr/local/lib/python3.7/runpy.py:193: UserWarning: [W008] Evaluating Span.similarity based on empty vectors.\n",
      "  \"__main__\", mod_spec)\n",
      "/usr/local/lib/python3.7/runpy.py:193: UserWarning: [W008] Evaluating Span.similarity based on empty vectors.\n",
      "  \"__main__\", mod_spec)\n",
      "/usr/local/lib/python3.7/runpy.py:193: UserWarning: [W008] Evaluating Span.similarity based on empty vectors.\n",
      "  \"__main__\", mod_spec)\n",
      "/usr/local/lib/python3.7/runpy.py:193: UserWarning: [W008] Evaluating Span.similarity based on empty vectors.\n",
      "  \"__main__\", mod_spec)\n",
      "/usr/local/lib/python3.7/runpy.py:193: UserWarning: [W008] Evaluating Span.similarity based on empty vectors.\n",
      "  \"__main__\", mod_spec)\n",
      "/usr/local/lib/python3.7/runpy.py:193: UserWarning: [W008] Evaluating Span.similarity based on empty vectors.\n",
      "  \"__main__\", mod_spec)\n",
      "/usr/local/lib/python3.7/runpy.py:193: UserWarning: [W008] Evaluating Span.similarity based on empty vectors.\n",
      "  \"__main__\", mod_spec)\n",
      "/usr/local/lib/python3.7/runpy.py:193: UserWarning: [W008] Evaluating Span.similarity based on empty vectors.\n",
      "  \"__main__\", mod_spec)\n",
      "/usr/local/lib/python3.7/runpy.py:193: UserWarning: [W008] Evaluating Span.similarity based on empty vectors.\n",
      "  \"__main__\", mod_spec)\n",
      "/usr/local/lib/python3.7/runpy.py:193: UserWarning: [W008] Evaluating Span.similarity based on empty vectors.\n",
      "  \"__main__\", mod_spec)\n",
      "/usr/local/lib/python3.7/runpy.py:193: UserWarning: [W008] Evaluating Span.similarity based on empty vectors.\n",
      "  \"__main__\", mod_spec)\n"
     ]
    },
    {
     "name": "stdout",
     "output_type": "stream",
     "text": [
      "Substituting symbols back to original sentence:\n",
      "  \"the RedBike is with southwest of DorranceSt, and is with northwest of ProvidenceHall\"\n",
      "[('RedBike', bike)]\n",
      "[('DorranceSt', dorrance street), ('ProvidenceHall', providence hall)]\n",
      "Printing dependency tree\n",
      "           (ROOT) is                                     \n",
      "  _____________|________________________________          \n",
      " |   |         |               |            (conj) is    \n",
      " |   |         |               |                |         \n",
      " |   |         |          (prep) with      (prep) with   \n",
      " |   |         |               |                |         \n",
      " |   |         |        (pobj) southwest (pobj) northwest\n",
      " |   |         |               |                |         \n",
      " |   |  (nsubj) RedBike    (prep) of        (prep) of    \n",
      " |   |         |               |                |         \n",
      " ,  and       the          DorranceSt     ProvidenceHall \n",
      "\n",
      "Spatial Graph for Subdoc 0\n",
      "{'entities': ['ProvidenceHall', 'DorranceSt', 'RedBike'], 'relations': [('RedBike', 'DorranceSt', 'is with southwest of'), ('RedBike', 'ProvidenceHall', 'is is with northwest of')], 'lang': 'the RedBike is with southwest of DorranceSt, and is with northwest of ProvidenceHall'}\n",
      "\n",
      "Subdoc 1: the bike is also directly south of the robot\n",
      "Using new doc? False\n",
      "Swapping:\n",
      "  before swap: \"the bike is also directly south of the robot\"\n",
      "  after swap: \"the bike is also directly south of the robot\"\n",
      "Substituting symbols back to original sentence:\n",
      "  \"the RedBike is also directly with south of Robot\"\n",
      "[('RedBike', bike)]\n",
      "[('Robot', the robot)]\n",
      "Printing dependency tree\n",
      "        (ROOT) is                                     \n",
      "  __________|______________________                    \n",
      " |          |                 (prep) with             \n",
      " |          |            __________|___________        \n",
      " |          |           |                 (pobj) south\n",
      " |          |           |                      |       \n",
      " |   (nsubj) RedBike    |                  (prep) of  \n",
      " |          |           |                      |       \n",
      "also       the       directly                Robot    \n",
      "\n",
      "Spatial Graph for Subdoc 1\n",
      "{'entities': ['Robot', 'RedBike'], 'relations': [('RedBike', 'Robot', 'is with south of')], 'lang': 'the RedBike is also directly with south of Robot'}\n",
      "---Edges---\n",
      "{1: #1[<#2(RedBike)>is is with northwest of<#0(ProvidenceHall)>], 0: #0[<#2(RedBike)>is with south of<#3(Robot)>], 2: #2[<#2(RedBike)>is with southwest of<#1(DorranceSt)>]}\n",
      "---Graph to Dict---\n",
      "{'entities': ['ProvidenceHall', 'DorranceSt', 'RedBike', 'Robot'],\n",
      " 'lang': 'the RedBike is with southwest of DorranceSt, and is with northwest '\n",
      "         'of ProvidenceHall. the RedBike is also directly with south of Robot',\n",
      " 'relations': [('RedBike', 'Robot', 'is with south of'),\n",
      "               ('RedBike', 'ProvidenceHall', 'is is with northwest of'),\n",
      "               ('RedBike', 'DorranceSt', 'is with southwest of')]}\n"
     ]
    },
    {
     "name": "stderr",
     "output_type": "stream",
     "text": [
      "/usr/local/lib/python3.7/runpy.py:193: UserWarning: [W008] Evaluating Span.similarity based on empty vectors.\n",
      "  \"__main__\", mod_spec)\n",
      "/usr/local/lib/python3.7/runpy.py:193: UserWarning: [W008] Evaluating Span.similarity based on empty vectors.\n",
      "  \"__main__\", mod_spec)\n",
      "/usr/local/lib/python3.7/runpy.py:193: UserWarning: [W008] Evaluating Span.similarity based on empty vectors.\n",
      "  \"__main__\", mod_spec)\n",
      "/usr/local/lib/python3.7/runpy.py:193: UserWarning: [W008] Evaluating Span.similarity based on empty vectors.\n",
      "  \"__main__\", mod_spec)\n",
      "/usr/local/lib/python3.7/runpy.py:193: UserWarning: [W008] Evaluating Span.similarity based on empty vectors.\n",
      "  \"__main__\", mod_spec)\n",
      "/usr/local/lib/python3.7/runpy.py:193: UserWarning: [W008] Evaluating Span.similarity based on empty vectors.\n",
      "  \"__main__\", mod_spec)\n",
      "/usr/local/lib/python3.7/runpy.py:193: UserWarning: [W008] Evaluating Span.similarity based on empty vectors.\n",
      "  \"__main__\", mod_spec)\n",
      "/usr/local/lib/python3.7/runpy.py:193: UserWarning: [W008] Evaluating Span.similarity based on empty vectors.\n",
      "  \"__main__\", mod_spec)\n",
      "/usr/local/lib/python3.7/runpy.py:193: UserWarning: [W008] Evaluating Span.similarity based on empty vectors.\n",
      "  \"__main__\", mod_spec)\n"
     ]
    }
   ],
   "source": [
    "try_lang(lang2, \"dorrance\")"
   ]
  },
  {
   "cell_type": "markdown",
   "metadata": {},
   "source": [
    "### Sentence 3: The car is in the Southeast corner of Dorrance Street and Fulton Street."
   ]
  },
  {
   "cell_type": "code",
   "execution_count": 24,
   "metadata": {},
   "outputs": [],
   "source": [
    "lang3=\"The car is in the on Southeast corner of Dorrance Street and Fulton Street.\".lower()"
   ]
  },
  {
   "cell_type": "code",
   "execution_count": 25,
   "metadata": {
    "scrolled": false
   },
   "outputs": [
    {
     "name": "stdout",
     "output_type": "stream",
     "text": [
      "Swapping:\n",
      "  before swap: \"the car is in the on southeast corner of dorrance street and fulton street.\"\n",
      "  after swap: \"the car is in the on southeast corner of dorrance street and fulton street.\"\n"
     ]
    },
    {
     "name": "stderr",
     "output_type": "stream",
     "text": [
      "/usr/local/lib/python3.7/runpy.py:193: UserWarning: [W008] Evaluating Span.similarity based on empty vectors.\n",
      "  \"__main__\", mod_spec)\n",
      "/usr/local/lib/python3.7/runpy.py:193: UserWarning: [W008] Evaluating Span.similarity based on empty vectors.\n",
      "  \"__main__\", mod_spec)\n",
      "/usr/local/lib/python3.7/runpy.py:193: UserWarning: [W008] Evaluating Span.similarity based on empty vectors.\n",
      "  \"__main__\", mod_spec)\n",
      "/usr/local/lib/python3.7/runpy.py:193: UserWarning: [W008] Evaluating Span.similarity based on empty vectors.\n",
      "  \"__main__\", mod_spec)\n",
      "/usr/local/lib/python3.7/runpy.py:193: UserWarning: [W008] Evaluating Span.similarity based on empty vectors.\n",
      "  \"__main__\", mod_spec)\n",
      "/usr/local/lib/python3.7/runpy.py:193: UserWarning: [W008] Evaluating Span.similarity based on empty vectors.\n",
      "  \"__main__\", mod_spec)\n"
     ]
    },
    {
     "name": "stdout",
     "output_type": "stream",
     "text": [
      "Substituting symbols back to original sentence:\n",
      "  \"the GreenToyota is in the on with southeast of corner of DorranceSt and FultonSt.\"\n",
      "\n",
      "Subdoc 0: the car is in the on southeast corner of dorrance street and fulton street.\n",
      "Using new doc? False\n",
      "Swapping:\n",
      "  before swap: \"the car is in the on southeast corner of dorrance street and fulton street.\"\n",
      "  after swap: \"the car is in the on southeast corner of dorrance street and fulton street.\"\n",
      "Substituting symbols back to original sentence:\n",
      "  \"the GreenToyota is in the on with southeast of corner of DorranceSt and FultonSt.\"\n",
      "[('GreenToyota', car)]\n",
      "[('DorranceSt', dorrance street), ('FultonSt', fulton street)]\n",
      "Printing dependency tree\n",
      "                     (ROOT) is                              \n",
      "  _______________________|________________                   \n",
      " |         |             |           (prep) with            \n",
      " |         |             |                |                  \n",
      " |         |             |         (pobj) southeast         \n",
      " |         |             |                |                  \n",
      " |         |             |            (prep) of             \n",
      " |         |             |                |                  \n",
      " |         |             |          (pobj) corner           \n",
      " |         |             |                |                  \n",
      " |         |         (prep) in        (prep) of             \n",
      " |         |             |                |                  \n",
      " |  (nsubj) GreenToy (pobj) on     (pobj) DorranceS         \n",
      " |        ota            |                t                 \n",
      " |         |             |       _________|____________      \n",
      " .        the           the    and                  FultonSt\n",
      "\n",
      "Spatial Graph for Subdoc 0\n",
      "{'entities': ['GreenToyota', 'DorranceSt', 'FultonSt'], 'relations': [('GreenToyota', 'DorranceSt', 'is with southeast of corner of'), ('GreenToyota', 'FultonSt', 'is with southeast of corner of ')], 'lang': 'the GreenToyota is in the on with southeast of corner of DorranceSt and FultonSt.'}\n",
      "---Edges---\n",
      "{1: #1[<#0(GreenToyota)>is with southeast of corner of <#2(FultonSt)>], 0: #0[<#0(GreenToyota)>is with southeast of corner of<#1(DorranceSt)>]}\n",
      "---Graph to Dict---\n",
      "{'entities': ['GreenToyota', 'DorranceSt', 'FultonSt'],\n",
      " 'lang': 'the GreenToyota is in the on with southeast of corner of DorranceSt '\n",
      "         'and FultonSt.',\n",
      " 'relations': [('GreenToyota', 'DorranceSt', 'is with southeast of corner of'),\n",
      "               ('GreenToyota', 'FultonSt', 'is with southeast of corner of ')]}\n"
     ]
    },
    {
     "name": "stderr",
     "output_type": "stream",
     "text": [
      "/usr/local/lib/python3.7/runpy.py:193: UserWarning: [W008] Evaluating Span.similarity based on empty vectors.\n",
      "  \"__main__\", mod_spec)\n",
      "/usr/local/lib/python3.7/runpy.py:193: UserWarning: [W008] Evaluating Span.similarity based on empty vectors.\n",
      "  \"__main__\", mod_spec)\n",
      "/usr/local/lib/python3.7/runpy.py:193: UserWarning: [W008] Evaluating Span.similarity based on empty vectors.\n",
      "  \"__main__\", mod_spec)\n",
      "/usr/local/lib/python3.7/runpy.py:193: UserWarning: [W008] Evaluating Span.similarity based on empty vectors.\n",
      "  \"__main__\", mod_spec)\n",
      "/usr/local/lib/python3.7/runpy.py:193: UserWarning: [W008] Evaluating Span.similarity based on empty vectors.\n",
      "  \"__main__\", mod_spec)\n",
      "/usr/local/lib/python3.7/runpy.py:193: UserWarning: [W008] Evaluating Span.similarity based on empty vectors.\n",
      "  \"__main__\", mod_spec)\n",
      "/usr/local/lib/python3.7/runpy.py:193: UserWarning: [W008] Evaluating Span.similarity based on empty vectors.\n",
      "  \"__main__\", mod_spec)\n",
      "/usr/local/lib/python3.7/runpy.py:193: UserWarning: [W008] Evaluating Span.similarity based on empty vectors.\n",
      "  \"__main__\", mod_spec)\n",
      "/usr/local/lib/python3.7/runpy.py:193: UserWarning: [W008] Evaluating Span.similarity based on empty vectors.\n",
      "  \"__main__\", mod_spec)\n",
      "/usr/local/lib/python3.7/runpy.py:193: UserWarning: [W008] Evaluating Span.similarity based on empty vectors.\n",
      "  \"__main__\", mod_spec)\n"
     ]
    }
   ],
   "source": [
    "try_lang(lang3, \"dorrance\")"
   ]
  },
  {
   "cell_type": "markdown",
   "metadata": {},
   "source": [
    "### Sentence 4: The green car is below Waterman Street in the building to the right of the Stephen Robert 62 Campus Center."
   ]
  },
  {
   "cell_type": "code",
   "execution_count": 26,
   "metadata": {},
   "outputs": [],
   "source": [
    "lang4 = \"The green car is below Waterman Street in the building to the right of the Stephen Robert 62 Campus Center.\""
   ]
  },
  {
   "cell_type": "code",
   "execution_count": 28,
   "metadata": {
    "scrolled": false
   },
   "outputs": [
    {
     "name": "stdout",
     "output_type": "stream",
     "text": [
      "Swapping:\n",
      "  before swap: \"The green car is below Waterman Street in the building to the right of the Stephen Robert 62 Campus Center.\"\n",
      "  after swap: \"The green car is below Waterman Street in the building to the right of the Stephen Robert 62 Campus Center.\"\n",
      "Substituting symbols back to original sentence:\n",
      "  \"The GreenToyota is with below of WatermanSt in the building to the with right of StephenRobertCenter.\"\n",
      "\n",
      "Subdoc 0: The green car is below Waterman Street in the building to the right of the Stephen Robert 62 Campus Center.\n",
      "Using new doc? False\n",
      "Swapping:\n",
      "  before swap: \"The green car is below Waterman Street in the building to the right of the Stephen Robert 62 Campus Center.\"\n",
      "  after swap: \"The green car is below Waterman Street in the building to the right of the Stephen Robert 62 Campus Center.\"\n"
     ]
    },
    {
     "name": "stderr",
     "output_type": "stream",
     "text": [
      "/usr/local/lib/python3.7/runpy.py:193: UserWarning: [W008] Evaluating Span.similarity based on empty vectors.\n",
      "  \"__main__\", mod_spec)\n",
      "/usr/local/lib/python3.7/runpy.py:193: UserWarning: [W008] Evaluating Span.similarity based on empty vectors.\n",
      "  \"__main__\", mod_spec)\n",
      "/usr/local/lib/python3.7/runpy.py:193: UserWarning: [W008] Evaluating Span.similarity based on empty vectors.\n",
      "  \"__main__\", mod_spec)\n",
      "/usr/local/lib/python3.7/runpy.py:193: UserWarning: [W008] Evaluating Span.similarity based on empty vectors.\n",
      "  \"__main__\", mod_spec)\n",
      "/usr/local/lib/python3.7/runpy.py:193: UserWarning: [W008] Evaluating Span.similarity based on empty vectors.\n",
      "  \"__main__\", mod_spec)\n",
      "/usr/local/lib/python3.7/runpy.py:193: UserWarning: [W008] Evaluating Span.similarity based on empty vectors.\n",
      "  \"__main__\", mod_spec)\n",
      "/usr/local/lib/python3.7/runpy.py:193: UserWarning: [W008] Evaluating Span.similarity based on empty vectors.\n",
      "  \"__main__\", mod_spec)\n",
      "/usr/local/lib/python3.7/runpy.py:193: UserWarning: [W008] Evaluating Span.similarity based on empty vectors.\n",
      "  \"__main__\", mod_spec)\n",
      "/usr/local/lib/python3.7/runpy.py:193: UserWarning: [W008] Evaluating Span.similarity based on empty vectors.\n",
      "  \"__main__\", mod_spec)\n",
      "/usr/local/lib/python3.7/runpy.py:193: UserWarning: [W008] Evaluating Span.similarity based on empty vectors.\n",
      "  \"__main__\", mod_spec)\n",
      "/usr/local/lib/python3.7/runpy.py:193: UserWarning: [W008] Evaluating Span.similarity based on empty vectors.\n",
      "  \"__main__\", mod_spec)\n",
      "/usr/local/lib/python3.7/runpy.py:193: UserWarning: [W008] Evaluating Span.similarity based on empty vectors.\n",
      "  \"__main__\", mod_spec)\n",
      "/usr/local/lib/python3.7/runpy.py:193: UserWarning: [W008] Evaluating Span.similarity based on empty vectors.\n",
      "  \"__main__\", mod_spec)\n",
      "/usr/local/lib/python3.7/runpy.py:193: UserWarning: [W008] Evaluating Span.similarity based on empty vectors.\n",
      "  \"__main__\", mod_spec)\n",
      "/usr/local/lib/python3.7/runpy.py:193: UserWarning: [W008] Evaluating Span.similarity based on empty vectors.\n",
      "  \"__main__\", mod_spec)\n",
      "/usr/local/lib/python3.7/runpy.py:193: UserWarning: [W008] Evaluating Span.similarity based on empty vectors.\n",
      "  \"__main__\", mod_spec)\n",
      "/usr/local/lib/python3.7/runpy.py:193: UserWarning: [W008] Evaluating Span.similarity based on empty vectors.\n",
      "  \"__main__\", mod_spec)\n",
      "/usr/local/lib/python3.7/runpy.py:193: UserWarning: [W008] Evaluating Span.similarity based on empty vectors.\n",
      "  \"__main__\", mod_spec)\n",
      "/usr/local/lib/python3.7/runpy.py:193: UserWarning: [W008] Evaluating Span.similarity based on empty vectors.\n",
      "  \"__main__\", mod_spec)\n",
      "/usr/local/lib/python3.7/runpy.py:193: UserWarning: [W008] Evaluating Span.similarity based on empty vectors.\n",
      "  \"__main__\", mod_spec)\n",
      "/usr/local/lib/python3.7/runpy.py:193: UserWarning: [W008] Evaluating Span.similarity based on empty vectors.\n",
      "  \"__main__\", mod_spec)\n",
      "/usr/local/lib/python3.7/runpy.py:193: UserWarning: [W008] Evaluating Span.similarity based on empty vectors.\n",
      "  \"__main__\", mod_spec)\n",
      "/usr/local/lib/python3.7/runpy.py:193: UserWarning: [W008] Evaluating Span.similarity based on empty vectors.\n",
      "  \"__main__\", mod_spec)\n",
      "/usr/local/lib/python3.7/runpy.py:193: UserWarning: [W008] Evaluating Span.similarity based on empty vectors.\n",
      "  \"__main__\", mod_spec)\n",
      "/usr/local/lib/python3.7/runpy.py:193: UserWarning: [W008] Evaluating Span.similarity based on empty vectors.\n",
      "  \"__main__\", mod_spec)\n",
      "/usr/local/lib/python3.7/runpy.py:193: UserWarning: [W008] Evaluating Span.similarity based on empty vectors.\n",
      "  \"__main__\", mod_spec)\n",
      "/usr/local/lib/python3.7/runpy.py:193: UserWarning: [W008] Evaluating Span.similarity based on empty vectors.\n",
      "  \"__main__\", mod_spec)\n",
      "/usr/local/lib/python3.7/runpy.py:193: UserWarning: [W008] Evaluating Span.similarity based on empty vectors.\n",
      "  \"__main__\", mod_spec)\n",
      "/usr/local/lib/python3.7/runpy.py:193: UserWarning: [W008] Evaluating Span.similarity based on empty vectors.\n",
      "  \"__main__\", mod_spec)\n",
      "/usr/local/lib/python3.7/runpy.py:193: UserWarning: [W008] Evaluating Span.similarity based on empty vectors.\n",
      "  \"__main__\", mod_spec)\n"
     ]
    },
    {
     "name": "stdout",
     "output_type": "stream",
     "text": [
      "Substituting symbols back to original sentence:\n",
      "  \"The GreenToyota is with below of WatermanSt in the building to the with right of StephenRobertCenter.\"\n",
      "[('GreenToyota', green car)]\n",
      "[('WatermanSt', Waterman Street), ('StephenRobertCenter', the Stephen Robert 62 Campus Center)]\n",
      "Printing dependency tree\n",
      "                      (ROOT) is                                             \n",
      "  ________________________|________________________________________          \n",
      " |         |         (prep) with         |            |       (prep) with   \n",
      " |         |              |              |            |            |         \n",
      " |         |         (pobj) below    (prep) in        |       (pobj) right  \n",
      " |         |              |              |            |            |         \n",
      " |  (nsubj) GreenToy  (prep) of   (pobj) building (prep) to    (prep) of    \n",
      " |        ota             |              |            |            |        \n",
      " |         |              |              |            |            |         \n",
      " .        The         WatermanSt        the          the    StephenRobertCen\n",
      "                                                                  ter       \n",
      "\n",
      "Spatial Graph for Subdoc 0\n",
      "{'entities': ['GreenToyota', 'StephenRobertCenter', 'WatermanSt'], 'relations': [('GreenToyota', 'WatermanSt', 'is with below of'), ('GreenToyota', 'StephenRobertCenter', 'is with right of')], 'lang': 'The GreenToyota is with below of WatermanSt in the building to the with right of StephenRobertCenter.'}\n",
      "---Edges---\n",
      "{0: #0[<#0(GreenToyota)>is with right of<#1(StephenRobertCenter)>], 1: #1[<#0(GreenToyota)>is with below of<#2(WatermanSt)>]}\n",
      "---Graph to Dict---\n",
      "{'entities': ['GreenToyota', 'StephenRobertCenter', 'WatermanSt'],\n",
      " 'lang': 'The GreenToyota is with below of WatermanSt in the building to the '\n",
      "         'with right of StephenRobertCenter.',\n",
      " 'relations': [('GreenToyota', 'StephenRobertCenter', 'is with right of'),\n",
      "               ('GreenToyota', 'WatermanSt', 'is with below of')]}\n"
     ]
    }
   ],
   "source": [
    "try_lang(lang4, \"faunce\")"
   ]
  },
  {
   "cell_type": "markdown",
   "metadata": {},
   "source": [
    "### Sentence 5: The red bike is by Fulton Street and the two cars are close to Dorrance Street."
   ]
  },
  {
   "cell_type": "code",
   "execution_count": 29,
   "metadata": {},
   "outputs": [],
   "source": [
    "lang5 = \"The red bike is by Fulton Street and the two cars are close to Dorrance Street\""
   ]
  },
  {
   "cell_type": "code",
   "execution_count": 31,
   "metadata": {
    "scrolled": false
   },
   "outputs": [
    {
     "name": "stdout",
     "output_type": "stream",
     "text": [
      "Swapping:\n",
      "  before swap: \"The red bike is by Fulton Street and the two cars are close to Dorrance Street\"\n",
      "  after swap: \"The red bike is by Fulton Street and the green toyota and the blue honda are close to Dorrance Street\"\n",
      "Substituting symbols back to original sentence:\n",
      "  \"The RedBike is by FultonSt and the GreenToyota and the BlueHonda are with close of to DorranceSt\"\n",
      "\n",
      "Subdoc 0: The red bike is by Fulton Street \n",
      "Using new doc? False\n",
      "Swapping:\n",
      "  before swap: \"The red bike is by Fulton Street \"\n",
      "  after swap: \"The red bike is by Fulton Street \"\n",
      "Substituting symbols back to original sentence:\n",
      "  \"The RedBike is by FultonSt \"\n",
      "[('RedBike', red bike)]\n",
      "[('FultonSt', Fulton Street)]\n",
      "Printing dependency tree\n",
      "                (ROOT) is          \n",
      "        ____________|_________      \n",
      "(nsubj) RedBike           (prep) by\n",
      "       |                      |     \n",
      "      The                  FultonSt\n",
      "\n",
      "Spatial Graph for Subdoc 0\n",
      "{'entities': ['RedBike', 'FultonSt'], 'relations': [('RedBike', 'FultonSt', 'is by')], 'lang': 'The RedBike is by FultonSt '}\n",
      "\n",
      "Subdoc 1: the two cars are close to Dorrance Street\n",
      "Using new doc? False\n",
      "Swapping:\n",
      "  before swap: \"the two cars are close to Dorrance Street\"\n",
      "  after swap: \"the green toyota and the blue honda are close to Dorrance Street\"\n"
     ]
    },
    {
     "name": "stderr",
     "output_type": "stream",
     "text": [
      "/usr/local/lib/python3.7/runpy.py:193: UserWarning: [W008] Evaluating Span.similarity based on empty vectors.\n",
      "  \"__main__\", mod_spec)\n",
      "/usr/local/lib/python3.7/runpy.py:193: UserWarning: [W008] Evaluating Span.similarity based on empty vectors.\n",
      "  \"__main__\", mod_spec)\n",
      "/usr/local/lib/python3.7/runpy.py:193: UserWarning: [W008] Evaluating Span.similarity based on empty vectors.\n",
      "  \"__main__\", mod_spec)\n",
      "/usr/local/lib/python3.7/runpy.py:193: UserWarning: [W008] Evaluating Span.similarity based on empty vectors.\n",
      "  \"__main__\", mod_spec)\n",
      "/usr/local/lib/python3.7/runpy.py:193: UserWarning: [W008] Evaluating Span.similarity based on empty vectors.\n",
      "  \"__main__\", mod_spec)\n",
      "/usr/local/lib/python3.7/runpy.py:193: UserWarning: [W008] Evaluating Span.similarity based on empty vectors.\n",
      "  \"__main__\", mod_spec)\n",
      "/usr/local/lib/python3.7/runpy.py:193: UserWarning: [W008] Evaluating Span.similarity based on empty vectors.\n",
      "  \"__main__\", mod_spec)\n",
      "/usr/local/lib/python3.7/runpy.py:193: UserWarning: [W008] Evaluating Span.similarity based on empty vectors.\n",
      "  \"__main__\", mod_spec)\n",
      "/usr/local/lib/python3.7/runpy.py:193: UserWarning: [W008] Evaluating Span.similarity based on empty vectors.\n",
      "  \"__main__\", mod_spec)\n",
      "/usr/local/lib/python3.7/runpy.py:193: UserWarning: [W008] Evaluating Span.similarity based on empty vectors.\n",
      "  \"__main__\", mod_spec)\n",
      "/usr/local/lib/python3.7/runpy.py:193: UserWarning: [W008] Evaluating Span.similarity based on empty vectors.\n",
      "  \"__main__\", mod_spec)\n",
      "/usr/local/lib/python3.7/runpy.py:193: UserWarning: [W008] Evaluating Span.similarity based on empty vectors.\n",
      "  \"__main__\", mod_spec)\n",
      "/usr/local/lib/python3.7/runpy.py:193: UserWarning: [W008] Evaluating Span.similarity based on empty vectors.\n",
      "  \"__main__\", mod_spec)\n",
      "/usr/local/lib/python3.7/runpy.py:193: UserWarning: [W008] Evaluating Span.similarity based on empty vectors.\n",
      "  \"__main__\", mod_spec)\n",
      "/usr/local/lib/python3.7/runpy.py:193: UserWarning: [W008] Evaluating Span.similarity based on empty vectors.\n",
      "  \"__main__\", mod_spec)\n"
     ]
    },
    {
     "name": "stdout",
     "output_type": "stream",
     "text": [
      "Substituting symbols back to original sentence:\n",
      "  \"the GreenToyota and the BlueHonda are with close of to DorranceSt\"\n",
      "[('GreenToyota', green toyota), ('BlueHonda', blue honda)]\n",
      "[('DorranceSt', Dorrance Street)]\n",
      "Printing dependency tree\n",
      "                     (ROOT) are                              \n",
      "            _____________|____________________________        \n",
      "           |                                     (prep) with \n",
      "           |                                          |       \n",
      "           |                                     (pobj) close\n",
      "           |                                          |       \n",
      "    (nsubj) GreenToy                              (prep) of  \n",
      "          ota                                         |      \n",
      "  _________|___________________________               |       \n",
      " |         |                    (conj) BlueHonda  (prep) to  \n",
      " |         |                           |              |       \n",
      "the       and                         the         DorranceSt \n",
      "\n",
      "Spatial Graph for Subdoc 1\n",
      "{'entities': ['GreenToyota', 'BlueHonda', 'DorranceSt'], 'relations': [('GreenToyota', 'DorranceSt', 'are with close of to'), ('BlueHonda', 'DorranceSt', 'are with close of to')], 'lang': 'the GreenToyota and the BlueHonda are with close of to DorranceSt'}\n",
      "---Edges---\n",
      "{0: #0[<#1(GreenToyota)>are with close of to<#0(DorranceSt)>], 1: #1[<#3(BlueHonda)>are with close of to<#0(DorranceSt)>], 2: #2[<#2(RedBike)>is by<#4(FultonSt)>]}\n",
      "---Graph to Dict---\n",
      "{'entities': ['DorranceSt', 'GreenToyota', 'RedBike', 'BlueHonda', 'FultonSt'],\n",
      " 'lang': 'The RedBike is by FultonSt . the GreenToyota and the BlueHonda are '\n",
      "         'with close of to DorranceSt',\n",
      " 'relations': [('GreenToyota', 'DorranceSt', 'are with close of to'),\n",
      "               ('BlueHonda', 'DorranceSt', 'are with close of to'),\n",
      "               ('RedBike', 'FultonSt', 'is by')]}\n"
     ]
    },
    {
     "name": "stderr",
     "output_type": "stream",
     "text": [
      "/usr/local/lib/python3.7/runpy.py:193: UserWarning: [W008] Evaluating Span.similarity based on empty vectors.\n",
      "  \"__main__\", mod_spec)\n",
      "/usr/local/lib/python3.7/runpy.py:193: UserWarning: [W008] Evaluating Span.similarity based on empty vectors.\n",
      "  \"__main__\", mod_spec)\n",
      "/usr/local/lib/python3.7/runpy.py:193: UserWarning: [W008] Evaluating Span.similarity based on empty vectors.\n",
      "  \"__main__\", mod_spec)\n",
      "/usr/local/lib/python3.7/runpy.py:193: UserWarning: [W008] Evaluating Span.similarity based on empty vectors.\n",
      "  \"__main__\", mod_spec)\n",
      "/usr/local/lib/python3.7/runpy.py:193: UserWarning: [W008] Evaluating Span.similarity based on empty vectors.\n",
      "  \"__main__\", mod_spec)\n"
     ]
    }
   ],
   "source": [
    "try_lang(lang5, \"dorrance\")"
   ]
  },
  {
   "cell_type": "markdown",
   "metadata": {},
   "source": [
    "### Sentence 6: The cars and bike are located near Salomon Center for Teaching."
   ]
  },
  {
   "cell_type": "code",
   "execution_count": 32,
   "metadata": {},
   "outputs": [],
   "source": [
    "lang6 = \"The cars and bike are located near Salomon Center for Teaching.\""
   ]
  },
  {
   "cell_type": "code",
   "execution_count": 34,
   "metadata": {},
   "outputs": [
    {
     "name": "stdout",
     "output_type": "stream",
     "text": [
      "Swapping:\n",
      "  before swap: \"The cars and bike are located near Salomon Center for Teaching.\"\n",
      "  after swap: \"the green toyota and the blue honda and bike are located near Salomon Center for Teaching.\"\n",
      "Substituting symbols back to original sentence:\n",
      "  \"the GreenToyota and the BlueHonda and RedBike are located with near of SalomonTeachingCenter for Teaching.\""
     ]
    },
    {
     "name": "stderr",
     "output_type": "stream",
     "text": [
      "/usr/local/lib/python3.7/runpy.py:193: UserWarning: [W008] Evaluating Span.similarity based on empty vectors.\n",
      "  \"__main__\", mod_spec)\n",
      "/usr/local/lib/python3.7/runpy.py:193: UserWarning: [W008] Evaluating Span.similarity based on empty vectors.\n",
      "  \"__main__\", mod_spec)\n",
      "/usr/local/lib/python3.7/runpy.py:193: UserWarning: [W008] Evaluating Span.similarity based on empty vectors.\n",
      "  \"__main__\", mod_spec)\n",
      "/usr/local/lib/python3.7/runpy.py:193: UserWarning: [W008] Evaluating Span.similarity based on empty vectors.\n",
      "  \"__main__\", mod_spec)\n",
      "/usr/local/lib/python3.7/runpy.py:193: UserWarning: [W008] Evaluating Span.similarity based on empty vectors.\n",
      "  \"__main__\", mod_spec)\n",
      "/usr/local/lib/python3.7/runpy.py:193: UserWarning: [W008] Evaluating Span.similarity based on empty vectors.\n",
      "  \"__main__\", mod_spec)\n",
      "/usr/local/lib/python3.7/runpy.py:193: UserWarning: [W008] Evaluating Span.similarity based on empty vectors.\n",
      "  \"__main__\", mod_spec)\n",
      "/usr/local/lib/python3.7/runpy.py:193: UserWarning: [W008] Evaluating Span.similarity based on empty vectors.\n",
      "  \"__main__\", mod_spec)\n",
      "/usr/local/lib/python3.7/runpy.py:193: UserWarning: [W008] Evaluating Span.similarity based on empty vectors.\n",
      "  \"__main__\", mod_spec)\n",
      "/usr/local/lib/python3.7/runpy.py:193: UserWarning: [W008] Evaluating Span.similarity based on empty vectors.\n",
      "  \"__main__\", mod_spec)\n",
      "/usr/local/lib/python3.7/runpy.py:193: UserWarning: [W008] Evaluating Span.similarity based on empty vectors.\n",
      "  \"__main__\", mod_spec)\n",
      "/usr/local/lib/python3.7/runpy.py:193: UserWarning: [W008] Evaluating Span.similarity based on empty vectors.\n",
      "  \"__main__\", mod_spec)\n",
      "/usr/local/lib/python3.7/runpy.py:193: UserWarning: [W008] Evaluating Span.similarity based on empty vectors.\n",
      "  \"__main__\", mod_spec)\n",
      "/usr/local/lib/python3.7/runpy.py:193: UserWarning: [W008] Evaluating Span.similarity based on empty vectors.\n",
      "  \"__main__\", mod_spec)\n",
      "/usr/local/lib/python3.7/runpy.py:193: UserWarning: [W008] Evaluating Span.similarity based on empty vectors.\n",
      "  \"__main__\", mod_spec)\n"
     ]
    },
    {
     "name": "stdout",
     "output_type": "stream",
     "text": [
      "\n",
      "\n",
      "Subdoc 0: The cars and bike are located near Salomon Center for Teaching.\n",
      "Using new doc? False\n",
      "Swapping:\n",
      "  before swap: \"The cars and bike are located near Salomon Center for Teaching.\"\n",
      "  after swap: \"the green toyota and the blue honda and bike are located near Salomon Center for Teaching.\"\n",
      "Substituting symbols back to original sentence:\n",
      "  \"the GreenToyota and the BlueHonda and RedBike are located with near of SalomonTeachingCenter for Teaching.\"\n",
      "[('GreenToyota', green toyota), ('BlueHonda', blue honda), ('RedBike', bike)]\n",
      "[('SalomonTeachingCenter', Salomon Center)]\n",
      "Printing dependency tree\n",
      "                (ROOT) located                                                     \n",
      "  ____________________|______________________________________________________       \n",
      " |   |                |                                   (prep) with        |     \n",
      " |   |                |                                        |             |      \n",
      " |   |           (nsubjpass)                              (pobj) near        |     \n",
      " |   |           GreenToyota                                   |             |     \n",
      " |   |    ____________|_______________                         |             |      \n",
      " |   |   |   |                 (conj) BlueHonda            (prep) of     (prep) for\n",
      " |   |   |   |         _______________|____________            |             |      \n",
      "are  .  the and      the             and        RedBike SalomonTeachingC  Teaching \n",
      "                                                             enter                 \n",
      "\n",
      "Spatial Graph for Subdoc 0\n",
      "{'entities': ['GreenToyota', 'BlueHonda', 'RedBike', 'SalomonTeachingCenter'], 'relations': [('GreenToyota', 'SalomonTeachingCenter', 'located with near of'), ('BlueHonda', 'SalomonTeachingCenter', 'located with near of'), ('RedBike', 'SalomonTeachingCenter', 'located with near of')], 'lang': 'the GreenToyota and the BlueHonda and RedBike are located with near of SalomonTeachingCenter for Teaching.'}\n",
      "---Edges---\n",
      "{2: #2[<#0(GreenToyota)>located with near of<#3(SalomonTeachingCenter)>], 1: #1[<#2(RedBike)>located with near of<#3(SalomonTeachingCenter)>], 0: #0[<#1(BlueHonda)>located with near of<#3(SalomonTeachingCenter)>]}\n",
      "---Graph to Dict---\n",
      "{'entities': ['GreenToyota', 'BlueHonda', 'RedBike', 'SalomonTeachingCenter'],\n",
      " 'lang': 'the GreenToyota and the BlueHonda and RedBike are located with near '\n",
      "         'of SalomonTeachingCenter for Teaching.',\n",
      " 'relations': [('BlueHonda', 'SalomonTeachingCenter', 'located with near of'),\n",
      "               ('RedBike', 'SalomonTeachingCenter', 'located with near of'),\n",
      "               ('GreenToyota',\n",
      "                'SalomonTeachingCenter',\n",
      "                'located with near of')]}\n"
     ]
    },
    {
     "name": "stderr",
     "output_type": "stream",
     "text": [
      "/usr/local/lib/python3.7/runpy.py:193: UserWarning: [W008] Evaluating Span.similarity based on empty vectors.\n",
      "  \"__main__\", mod_spec)\n",
      "/usr/local/lib/python3.7/runpy.py:193: UserWarning: [W008] Evaluating Span.similarity based on empty vectors.\n",
      "  \"__main__\", mod_spec)\n",
      "/usr/local/lib/python3.7/runpy.py:193: UserWarning: [W008] Evaluating Span.similarity based on empty vectors.\n",
      "  \"__main__\", mod_spec)\n",
      "/usr/local/lib/python3.7/runpy.py:193: UserWarning: [W008] Evaluating Span.similarity based on empty vectors.\n",
      "  \"__main__\", mod_spec)\n",
      "/usr/local/lib/python3.7/runpy.py:193: UserWarning: [W008] Evaluating Span.similarity based on empty vectors.\n",
      "  \"__main__\", mod_spec)\n",
      "/usr/local/lib/python3.7/runpy.py:193: UserWarning: [W008] Evaluating Span.similarity based on empty vectors.\n",
      "  \"__main__\", mod_spec)\n",
      "/usr/local/lib/python3.7/runpy.py:193: UserWarning: [W008] Evaluating Span.similarity based on empty vectors.\n",
      "  \"__main__\", mod_spec)\n",
      "/usr/local/lib/python3.7/runpy.py:193: UserWarning: [W008] Evaluating Span.similarity based on empty vectors.\n",
      "  \"__main__\", mod_spec)\n",
      "/usr/local/lib/python3.7/runpy.py:193: UserWarning: [W008] Evaluating Span.similarity based on empty vectors.\n",
      "  \"__main__\", mod_spec)\n",
      "/usr/local/lib/python3.7/runpy.py:193: UserWarning: [W008] Evaluating Span.similarity based on empty vectors.\n",
      "  \"__main__\", mod_spec)\n",
      "/usr/local/lib/python3.7/runpy.py:193: UserWarning: [W008] Evaluating Span.similarity based on empty vectors.\n",
      "  \"__main__\", mod_spec)\n",
      "/usr/local/lib/python3.7/runpy.py:193: UserWarning: [W008] Evaluating Span.similarity based on empty vectors.\n",
      "  \"__main__\", mod_spec)\n",
      "/usr/local/lib/python3.7/runpy.py:193: UserWarning: [W008] Evaluating Span.similarity based on empty vectors.\n",
      "  \"__main__\", mod_spec)\n",
      "/usr/local/lib/python3.7/runpy.py:193: UserWarning: [W008] Evaluating Span.similarity based on empty vectors.\n",
      "  \"__main__\", mod_spec)\n",
      "/usr/local/lib/python3.7/runpy.py:193: UserWarning: [W008] Evaluating Span.similarity based on empty vectors.\n",
      "  \"__main__\", mod_spec)\n"
     ]
    }
   ],
   "source": [
    "try_lang(lang6, \"faunce\")"
   ]
  },
  {
   "cell_type": "markdown",
   "metadata": {},
   "source": [
    "### Sentence 7: The car is parked in the Northwest corner of the Salomon Center for Teaching."
   ]
  },
  {
   "cell_type": "code",
   "execution_count": 37,
   "metadata": {},
   "outputs": [],
   "source": [
    "lang7 = \"The car is parked in the northwest corner of the Salomon Center for Teaching.\""
   ]
  },
  {
   "cell_type": "code",
   "execution_count": 38,
   "metadata": {
    "scrolled": false
   },
   "outputs": [
    {
     "name": "stdout",
     "output_type": "stream",
     "text": [
      "Swapping:\n",
      "  before swap: \"The car is parked in the northwest corner of the Salomon Center for Teaching.\"\n",
      "  after swap: \"The car is parked in the northwest corner of the Salomon Center for Teaching.\"\n",
      "Substituting symbols back to original sentence:\n",
      "  \"The GreenToyota is parked in the with northwest of corner of SalomonTeachingCenter for Teaching.\"\n",
      "\n",
      "Subdoc 0: The car is parked in the northwest corner of the Salomon Center for Teaching.\n",
      "Using new doc? False\n",
      "Swapping:\n",
      "  before swap: \"The car is parked in the northwest corner of the Salomon Center for Teaching.\"\n",
      "  after swap: \"The car is parked in the northwest corner of the Salomon Center for Teaching.\"\n"
     ]
    },
    {
     "name": "stderr",
     "output_type": "stream",
     "text": [
      "/usr/local/lib/python3.7/runpy.py:193: UserWarning: [W008] Evaluating Span.similarity based on empty vectors.\n",
      "  \"__main__\", mod_spec)\n",
      "/usr/local/lib/python3.7/runpy.py:193: UserWarning: [W008] Evaluating Span.similarity based on empty vectors.\n",
      "  \"__main__\", mod_spec)\n",
      "/usr/local/lib/python3.7/runpy.py:193: UserWarning: [W008] Evaluating Span.similarity based on empty vectors.\n",
      "  \"__main__\", mod_spec)\n",
      "/usr/local/lib/python3.7/runpy.py:193: UserWarning: [W008] Evaluating Span.similarity based on empty vectors.\n",
      "  \"__main__\", mod_spec)\n",
      "/usr/local/lib/python3.7/runpy.py:193: UserWarning: [W008] Evaluating Span.similarity based on empty vectors.\n",
      "  \"__main__\", mod_spec)\n",
      "/usr/local/lib/python3.7/runpy.py:193: UserWarning: [W008] Evaluating Span.similarity based on empty vectors.\n",
      "  \"__main__\", mod_spec)\n",
      "/usr/local/lib/python3.7/runpy.py:193: UserWarning: [W008] Evaluating Span.similarity based on empty vectors.\n",
      "  \"__main__\", mod_spec)\n",
      "/usr/local/lib/python3.7/runpy.py:193: UserWarning: [W008] Evaluating Span.similarity based on empty vectors.\n",
      "  \"__main__\", mod_spec)\n",
      "/usr/local/lib/python3.7/runpy.py:193: UserWarning: [W008] Evaluating Span.similarity based on empty vectors.\n",
      "  \"__main__\", mod_spec)\n",
      "/usr/local/lib/python3.7/runpy.py:193: UserWarning: [W008] Evaluating Span.similarity based on empty vectors.\n",
      "  \"__main__\", mod_spec)\n",
      "/usr/local/lib/python3.7/runpy.py:193: UserWarning: [W008] Evaluating Span.similarity based on empty vectors.\n",
      "  \"__main__\", mod_spec)\n",
      "/usr/local/lib/python3.7/runpy.py:193: UserWarning: [W008] Evaluating Span.similarity based on empty vectors.\n",
      "  \"__main__\", mod_spec)\n",
      "/usr/local/lib/python3.7/runpy.py:193: UserWarning: [W008] Evaluating Span.similarity based on empty vectors.\n",
      "  \"__main__\", mod_spec)\n",
      "/usr/local/lib/python3.7/runpy.py:193: UserWarning: [W008] Evaluating Span.similarity based on empty vectors.\n",
      "  \"__main__\", mod_spec)\n",
      "/usr/local/lib/python3.7/runpy.py:193: UserWarning: [W008] Evaluating Span.similarity based on empty vectors.\n",
      "  \"__main__\", mod_spec)\n",
      "/usr/local/lib/python3.7/runpy.py:193: UserWarning: [W008] Evaluating Span.similarity based on empty vectors.\n",
      "  \"__main__\", mod_spec)\n"
     ]
    },
    {
     "name": "stdout",
     "output_type": "stream",
     "text": [
      "Substituting symbols back to original sentence:\n",
      "  \"The GreenToyota is parked in the with northwest of corner of SalomonTeachingCenter for Teaching.\"\n",
      "[('GreenToyota', car)]\n",
      "[('SalomonTeachingCenter', the Salomon Center)]\n",
      "Printing dependency tree\n",
      "        (ROOT) parked                                      \n",
      "  ____________|______________________________________       \n",
      " |   |        |           |       (prep) with        |     \n",
      " |   |        |           |            |             |      \n",
      " |   |        |           |     (pobj) northwest     |     \n",
      " |   |        |           |            |             |      \n",
      " |   |        |           |        (prep) of         |     \n",
      " |   |        |           |            |             |      \n",
      " |   |        |           |      (pobj) corner       |     \n",
      " |   |        |           |            |             |      \n",
      " |   |   (nsubjpass)  (prep) in    (prep) of     (prep) for\n",
      " |   |   GreenToyota      |            |             |     \n",
      " |   |        |           |            |             |      \n",
      " is  .       The         the    SalomonTeachingC  Teaching \n",
      "                                     enter                 \n",
      "\n",
      "Spatial Graph for Subdoc 0\n",
      "{'entities': ['GreenToyota', 'SalomonTeachingCenter'], 'relations': [('GreenToyota', 'SalomonTeachingCenter', 'parked with northwest of corner of')], 'lang': 'The GreenToyota is parked in the with northwest of corner of SalomonTeachingCenter for Teaching.'}\n",
      "---Edges---\n",
      "{0: #0[<#0(GreenToyota)>parked with northwest of corner of<#1(SalomonTeachingCenter)>]}\n",
      "---Graph to Dict---\n",
      "{'entities': ['GreenToyota', 'SalomonTeachingCenter'],\n",
      " 'lang': 'The GreenToyota is parked in the with northwest of corner of '\n",
      "         'SalomonTeachingCenter for Teaching.',\n",
      " 'relations': [('GreenToyota',\n",
      "                'SalomonTeachingCenter',\n",
      "                'parked with northwest of corner of')]}\n"
     ]
    },
    {
     "name": "stderr",
     "output_type": "stream",
     "text": [
      "/usr/local/lib/python3.7/runpy.py:193: UserWarning: [W008] Evaluating Span.similarity based on empty vectors.\n",
      "  \"__main__\", mod_spec)\n",
      "/usr/local/lib/python3.7/runpy.py:193: UserWarning: [W008] Evaluating Span.similarity based on empty vectors.\n",
      "  \"__main__\", mod_spec)\n",
      "/usr/local/lib/python3.7/runpy.py:193: UserWarning: [W008] Evaluating Span.similarity based on empty vectors.\n",
      "  \"__main__\", mod_spec)\n",
      "/usr/local/lib/python3.7/runpy.py:193: UserWarning: [W008] Evaluating Span.similarity based on empty vectors.\n",
      "  \"__main__\", mod_spec)\n",
      "/usr/local/lib/python3.7/runpy.py:193: UserWarning: [W008] Evaluating Span.similarity based on empty vectors.\n",
      "  \"__main__\", mod_spec)\n",
      "/usr/local/lib/python3.7/runpy.py:193: UserWarning: [W008] Evaluating Span.similarity based on empty vectors.\n",
      "  \"__main__\", mod_spec)\n",
      "/usr/local/lib/python3.7/runpy.py:193: UserWarning: [W008] Evaluating Span.similarity based on empty vectors.\n",
      "  \"__main__\", mod_spec)\n",
      "/usr/local/lib/python3.7/runpy.py:193: UserWarning: [W008] Evaluating Span.similarity based on empty vectors.\n",
      "  \"__main__\", mod_spec)\n"
     ]
    }
   ],
   "source": [
    "try_lang(lang7, \"faunce\")"
   ]
  },
  {
   "cell_type": "markdown",
   "metadata": {},
   "source": [
    "### Sentence 8: The car is to the South of you within the Salomon Center for Teaching lot."
   ]
  },
  {
   "cell_type": "code",
   "execution_count": 39,
   "metadata": {},
   "outputs": [],
   "source": [
    "lang8 = \"The car is to the South of you within the Salomon Center for Teaching lot.\""
   ]
  },
  {
   "cell_type": "code",
   "execution_count": 41,
   "metadata": {
    "scrolled": false
   },
   "outputs": [
    {
     "name": "stdout",
     "output_type": "stream",
     "text": [
      "Swapping:\n",
      "  before swap: \"The car is to the South of you within the Salomon Center for Teaching lot.\"\n",
      "  after swap: \"The car is to the South of you within the Salomon Center for Teaching lot.\"\n",
      "Substituting symbols back to original sentence:\n",
      "  \"The GreenToyota is to the with south of Robot with within of SalomonTeachingCenter for Teaching lot.\"\n",
      "\n",
      "Subdoc 0: The car is to the South of you within the Salomon Center for Teaching lot.\n",
      "Using new doc? False\n",
      "Swapping:\n",
      "  before swap: \"The car is to the South of you within the Salomon Center for Teaching lot.\"\n",
      "  after swap: \"The car is to the South of you within the Salomon Center for Teaching lot.\"\n"
     ]
    },
    {
     "name": "stderr",
     "output_type": "stream",
     "text": [
      "/usr/local/lib/python3.7/runpy.py:193: UserWarning: [W008] Evaluating Span.similarity based on empty vectors.\n",
      "  \"__main__\", mod_spec)\n",
      "/usr/local/lib/python3.7/runpy.py:193: UserWarning: [W008] Evaluating Span.similarity based on empty vectors.\n",
      "  \"__main__\", mod_spec)\n",
      "/usr/local/lib/python3.7/runpy.py:193: UserWarning: [W008] Evaluating Span.similarity based on empty vectors.\n",
      "  \"__main__\", mod_spec)\n",
      "/usr/local/lib/python3.7/runpy.py:193: UserWarning: [W008] Evaluating Span.similarity based on empty vectors.\n",
      "  \"__main__\", mod_spec)\n",
      "/usr/local/lib/python3.7/runpy.py:193: UserWarning: [W008] Evaluating Span.similarity based on empty vectors.\n",
      "  \"__main__\", mod_spec)\n",
      "/usr/local/lib/python3.7/runpy.py:193: UserWarning: [W008] Evaluating Span.similarity based on empty vectors.\n",
      "  \"__main__\", mod_spec)\n",
      "/usr/local/lib/python3.7/runpy.py:193: UserWarning: [W008] Evaluating Span.similarity based on empty vectors.\n",
      "  \"__main__\", mod_spec)\n",
      "/usr/local/lib/python3.7/runpy.py:193: UserWarning: [W008] Evaluating Span.similarity based on empty vectors.\n",
      "  \"__main__\", mod_spec)\n",
      "/usr/local/lib/python3.7/runpy.py:193: UserWarning: [W008] Evaluating Span.similarity based on empty vectors.\n",
      "  \"__main__\", mod_spec)\n",
      "/usr/local/lib/python3.7/runpy.py:193: UserWarning: [W008] Evaluating Span.similarity based on empty vectors.\n",
      "  \"__main__\", mod_spec)\n",
      "/usr/local/lib/python3.7/runpy.py:193: UserWarning: [W008] Evaluating Span.similarity based on empty vectors.\n",
      "  \"__main__\", mod_spec)\n",
      "/usr/local/lib/python3.7/runpy.py:193: UserWarning: [W008] Evaluating Span.similarity based on empty vectors.\n",
      "  \"__main__\", mod_spec)\n",
      "/usr/local/lib/python3.7/runpy.py:193: UserWarning: [W008] Evaluating Span.similarity based on empty vectors.\n",
      "  \"__main__\", mod_spec)\n",
      "/usr/local/lib/python3.7/runpy.py:193: UserWarning: [W008] Evaluating Span.similarity based on empty vectors.\n",
      "  \"__main__\", mod_spec)\n",
      "/usr/local/lib/python3.7/runpy.py:193: UserWarning: [W008] Evaluating Span.similarity based on empty vectors.\n",
      "  \"__main__\", mod_spec)\n",
      "/usr/local/lib/python3.7/runpy.py:193: UserWarning: [W008] Evaluating Span.similarity based on empty vectors.\n",
      "  \"__main__\", mod_spec)\n",
      "/usr/local/lib/python3.7/runpy.py:193: UserWarning: [W008] Evaluating Span.similarity based on empty vectors.\n",
      "  \"__main__\", mod_spec)\n"
     ]
    },
    {
     "name": "stdout",
     "output_type": "stream",
     "text": [
      "Substituting symbols back to original sentence:\n",
      "  \"The GreenToyota is to the with south of Robot with within of SalomonTeachingCenter for Teaching lot.\"\n",
      "[('GreenToyota', car)]\n",
      "[('Robot', you), ('SalomonTeachingCenter', the Salomon Center)]\n",
      "Printing dependency tree\n",
      "                     (ROOT) is                                               \n",
      "  _______________________|__________________________________________          \n",
      " |         |             |     (prep) with    (prep) with           |        \n",
      " |         |             |          |              |                |         \n",
      " |         |             |     (pobj) south  (prep) within      (prep) for   \n",
      " |         |             |          |              |                |         \n",
      " |  (nsubj) GreenToy (prep) to  (prep) of      (prep) of     (pcomp) Teaching\n",
      " |        ota            |          |              |                |        \n",
      " |         |             |          |              |                |         \n",
      " .        The           the       Robot     SalomonTeachingC       lot       \n",
      "                                                 enter                       \n",
      "\n",
      "Spatial Graph for Subdoc 0\n",
      "{'entities': ['GreenToyota', 'Robot', 'SalomonTeachingCenter'], 'relations': [('GreenToyota', 'Robot', 'is with south of'), ('GreenToyota', 'SalomonTeachingCenter', 'is with within of')], 'lang': 'The GreenToyota is to the with south of Robot with within of SalomonTeachingCenter for Teaching lot.'}\n",
      "---Edges---\n",
      "{0: #0[<#0(GreenToyota)>is with within of<#2(SalomonTeachingCenter)>], 1: #1[<#0(GreenToyota)>is with south of<#1(Robot)>]}\n",
      "---Graph to Dict---\n",
      "{'entities': ['GreenToyota', 'Robot', 'SalomonTeachingCenter'],\n",
      " 'lang': 'The GreenToyota is to the with south of Robot with within of '\n",
      "         'SalomonTeachingCenter for Teaching lot.',\n",
      " 'relations': [('GreenToyota', 'SalomonTeachingCenter', 'is with within of'),\n",
      "               ('GreenToyota', 'Robot', 'is with south of')]}\n"
     ]
    },
    {
     "name": "stderr",
     "output_type": "stream",
     "text": [
      "/usr/local/lib/python3.7/runpy.py:193: UserWarning: [W008] Evaluating Span.similarity based on empty vectors.\n",
      "  \"__main__\", mod_spec)\n",
      "/usr/local/lib/python3.7/runpy.py:193: UserWarning: [W008] Evaluating Span.similarity based on empty vectors.\n",
      "  \"__main__\", mod_spec)\n",
      "/usr/local/lib/python3.7/runpy.py:193: UserWarning: [W008] Evaluating Span.similarity based on empty vectors.\n",
      "  \"__main__\", mod_spec)\n",
      "/usr/local/lib/python3.7/runpy.py:193: UserWarning: [W008] Evaluating Span.similarity based on empty vectors.\n",
      "  \"__main__\", mod_spec)\n",
      "/usr/local/lib/python3.7/runpy.py:193: UserWarning: [W008] Evaluating Span.similarity based on empty vectors.\n",
      "  \"__main__\", mod_spec)\n",
      "/usr/local/lib/python3.7/runpy.py:193: UserWarning: [W008] Evaluating Span.similarity based on empty vectors.\n",
      "  \"__main__\", mod_spec)\n",
      "/usr/local/lib/python3.7/runpy.py:193: UserWarning: [W008] Evaluating Span.similarity based on empty vectors.\n",
      "  \"__main__\", mod_spec)\n",
      "/usr/local/lib/python3.7/runpy.py:193: UserWarning: [W008] Evaluating Span.similarity based on empty vectors.\n",
      "  \"__main__\", mod_spec)\n",
      "/usr/local/lib/python3.7/runpy.py:193: UserWarning: [W008] Evaluating Span.similarity based on empty vectors.\n",
      "  \"__main__\", mod_spec)\n",
      "/usr/local/lib/python3.7/runpy.py:193: UserWarning: [W008] Evaluating Span.similarity based on empty vectors.\n",
      "  \"__main__\", mod_spec)\n",
      "/usr/local/lib/python3.7/runpy.py:193: UserWarning: [W008] Evaluating Span.similarity based on empty vectors.\n",
      "  \"__main__\", mod_spec)\n",
      "/usr/local/lib/python3.7/runpy.py:193: UserWarning: [W008] Evaluating Span.similarity based on empty vectors.\n",
      "  \"__main__\", mod_spec)\n",
      "/usr/local/lib/python3.7/runpy.py:193: UserWarning: [W008] Evaluating Span.similarity based on empty vectors.\n",
      "  \"__main__\", mod_spec)\n"
     ]
    }
   ],
   "source": [
    "try_lang(lang8, \"faunce\")"
   ]
  },
  {
   "cell_type": "markdown",
   "metadata": {},
   "source": [
    "### Sentence 9: \"The bike is located at the Stephen Robert Campus closer to Waterman Street\""
   ]
  },
  {
   "cell_type": "code",
   "execution_count": 43,
   "metadata": {},
   "outputs": [],
   "source": [
    "lang9 = \"The bike is located at the Stephen Robert Campus closer to Waterman Street\""
   ]
  },
  {
   "cell_type": "code",
   "execution_count": 44,
   "metadata": {},
   "outputs": [
    {
     "name": "stdout",
     "output_type": "stream",
     "text": [
      "Swapping:\n",
      "  before swap: \"The bike is located at the Stephen Robert Campus closer to Waterman Street\"\n",
      "  after swap: \"The bike is located at the Stephen Robert Campus closer to Waterman Street\"\n",
      "Substituting symbols back to original sentence:\n",
      "  \"The RedBike is located at StephenRobertCenter with near of to WatermanSt\"\n",
      "\n",
      "Subdoc 0: The bike is located at the Stephen Robert Campus closer to Waterman Street\n",
      "Using new doc? False\n",
      "Swapping:\n",
      "  before swap: \"The bike is located at the Stephen Robert Campus closer to Waterman Street\"\n",
      "  after swap: \"The bike is located at the Stephen Robert Campus closer to Waterman Street\"\n"
     ]
    },
    {
     "name": "stderr",
     "output_type": "stream",
     "text": [
      "/usr/local/lib/python3.7/runpy.py:193: UserWarning: [W008] Evaluating Span.similarity based on empty vectors.\n",
      "  \"__main__\", mod_spec)\n",
      "/usr/local/lib/python3.7/runpy.py:193: UserWarning: [W008] Evaluating Span.similarity based on empty vectors.\n",
      "  \"__main__\", mod_spec)\n",
      "/usr/local/lib/python3.7/runpy.py:193: UserWarning: [W008] Evaluating Span.similarity based on empty vectors.\n",
      "  \"__main__\", mod_spec)\n",
      "/usr/local/lib/python3.7/runpy.py:193: UserWarning: [W008] Evaluating Span.similarity based on empty vectors.\n",
      "  \"__main__\", mod_spec)\n",
      "/usr/local/lib/python3.7/runpy.py:193: UserWarning: [W008] Evaluating Span.similarity based on empty vectors.\n",
      "  \"__main__\", mod_spec)\n",
      "/usr/local/lib/python3.7/runpy.py:193: UserWarning: [W008] Evaluating Span.similarity based on empty vectors.\n",
      "  \"__main__\", mod_spec)\n",
      "/usr/local/lib/python3.7/runpy.py:193: UserWarning: [W008] Evaluating Span.similarity based on empty vectors.\n",
      "  \"__main__\", mod_spec)\n",
      "/usr/local/lib/python3.7/runpy.py:193: UserWarning: [W008] Evaluating Span.similarity based on empty vectors.\n",
      "  \"__main__\", mod_spec)\n",
      "/usr/local/lib/python3.7/runpy.py:193: UserWarning: [W008] Evaluating Span.similarity based on empty vectors.\n",
      "  \"__main__\", mod_spec)\n",
      "/usr/local/lib/python3.7/runpy.py:193: UserWarning: [W008] Evaluating Span.similarity based on empty vectors.\n",
      "  \"__main__\", mod_spec)\n",
      "/usr/local/lib/python3.7/runpy.py:193: UserWarning: [W008] Evaluating Span.similarity based on empty vectors.\n",
      "  \"__main__\", mod_spec)\n",
      "/usr/local/lib/python3.7/runpy.py:193: UserWarning: [W008] Evaluating Span.similarity based on empty vectors.\n",
      "  \"__main__\", mod_spec)\n",
      "/usr/local/lib/python3.7/runpy.py:193: UserWarning: [W008] Evaluating Span.similarity based on empty vectors.\n",
      "  \"__main__\", mod_spec)\n",
      "/usr/local/lib/python3.7/runpy.py:193: UserWarning: [W008] Evaluating Span.similarity based on empty vectors.\n",
      "  \"__main__\", mod_spec)\n",
      "/usr/local/lib/python3.7/runpy.py:193: UserWarning: [W008] Evaluating Span.similarity based on empty vectors.\n",
      "  \"__main__\", mod_spec)\n",
      "/usr/local/lib/python3.7/runpy.py:193: UserWarning: [W008] Evaluating Span.similarity based on empty vectors.\n",
      "  \"__main__\", mod_spec)\n",
      "/usr/local/lib/python3.7/runpy.py:193: UserWarning: [W008] Evaluating Span.similarity based on empty vectors.\n",
      "  \"__main__\", mod_spec)\n",
      "/usr/local/lib/python3.7/runpy.py:193: UserWarning: [W008] Evaluating Span.similarity based on empty vectors.\n",
      "  \"__main__\", mod_spec)\n"
     ]
    },
    {
     "name": "stdout",
     "output_type": "stream",
     "text": [
      "Substituting symbols back to original sentence:\n",
      "  \"The RedBike is located at StephenRobertCenter with near of to WatermanSt\"\n",
      "[('RedBike', bike)]\n",
      "[('StephenRobertCenter', the Stephen Robert Campus), ('WatermanSt', Waterman Street)]\n",
      "Printing dependency tree\n",
      "    (ROOT) located                             \n",
      "  ________|______________________________       \n",
      " |        |               |         (prep) with\n",
      " |        |               |              |      \n",
      " |        |               |         (pobj) near\n",
      " |        |               |              |      \n",
      " |        |               |          (prep) of \n",
      " |        |               |              |      \n",
      " |   (nsubjpass)      (prep) at      (prep) to \n",
      " |     RedBike            |              |     \n",
      " |        |               |              |      \n",
      " is      The       StephenRobertCen  WatermanSt\n",
      "                         ter                   \n",
      "\n",
      "Spatial Graph for Subdoc 0\n",
      "{'entities': ['StephenRobertCenter', 'RedBike', 'WatermanSt'], 'relations': [('RedBike', 'StephenRobertCenter', 'located at'), ('RedBike', 'WatermanSt', 'located with near of to')], 'lang': 'The RedBike is located at StephenRobertCenter with near of to WatermanSt'}\n",
      "---Edges---\n",
      "{0: #0[<#1(RedBike)>located with near of to<#2(WatermanSt)>], 1: #1[<#1(RedBike)>located at<#0(StephenRobertCenter)>]}\n",
      "---Graph to Dict---\n",
      "{'entities': ['StephenRobertCenter', 'RedBike', 'WatermanSt'],\n",
      " 'lang': 'The RedBike is located at StephenRobertCenter with near of to '\n",
      "         'WatermanSt',\n",
      " 'relations': [('RedBike', 'WatermanSt', 'located with near of to'),\n",
      "               ('RedBike', 'StephenRobertCenter', 'located at')]}\n"
     ]
    }
   ],
   "source": [
    "try_lang(lang9, \"faunce\")"
   ]
  },
  {
   "cell_type": "markdown",
   "metadata": {},
   "source": [
    "### Sentence 10: \"The green car is below Waterman Street in the building to the right of the Stephen Robert 62 Campus Center.\""
   ]
  },
  {
   "cell_type": "code",
   "execution_count": 45,
   "metadata": {},
   "outputs": [],
   "source": [
    "lang10 = \"The green car is below Waterman Street in the building to the on right of the Stephen Robert 62 Campus Center.\""
   ]
  },
  {
   "cell_type": "code",
   "execution_count": 46,
   "metadata": {},
   "outputs": [
    {
     "name": "stdout",
     "output_type": "stream",
     "text": [
      "Swapping:\n",
      "  before swap: \"The green car is below Waterman Street in the building to the on right of the Stephen Robert 62 Campus Center.\"\n",
      "  after swap: \"The green car is below Waterman Street in the building to the on right of the Stephen Robert 62 Campus Center.\"\n",
      "Substituting symbols back to original sentence:\n",
      "  \"The GreenToyota is with below of WatermanSt in the building to the on with right of StephenRobertCenter.\""
     ]
    },
    {
     "name": "stderr",
     "output_type": "stream",
     "text": [
      "/usr/local/lib/python3.7/runpy.py:193: UserWarning: [W008] Evaluating Span.similarity based on empty vectors.\n",
      "  \"__main__\", mod_spec)\n",
      "/usr/local/lib/python3.7/runpy.py:193: UserWarning: [W008] Evaluating Span.similarity based on empty vectors.\n",
      "  \"__main__\", mod_spec)\n",
      "/usr/local/lib/python3.7/runpy.py:193: UserWarning: [W008] Evaluating Span.similarity based on empty vectors.\n",
      "  \"__main__\", mod_spec)\n",
      "/usr/local/lib/python3.7/runpy.py:193: UserWarning: [W008] Evaluating Span.similarity based on empty vectors.\n",
      "  \"__main__\", mod_spec)\n",
      "/usr/local/lib/python3.7/runpy.py:193: UserWarning: [W008] Evaluating Span.similarity based on empty vectors.\n",
      "  \"__main__\", mod_spec)\n",
      "/usr/local/lib/python3.7/runpy.py:193: UserWarning: [W008] Evaluating Span.similarity based on empty vectors.\n",
      "  \"__main__\", mod_spec)\n",
      "/usr/local/lib/python3.7/runpy.py:193: UserWarning: [W008] Evaluating Span.similarity based on empty vectors.\n",
      "  \"__main__\", mod_spec)\n",
      "/usr/local/lib/python3.7/runpy.py:193: UserWarning: [W008] Evaluating Span.similarity based on empty vectors.\n",
      "  \"__main__\", mod_spec)\n",
      "/usr/local/lib/python3.7/runpy.py:193: UserWarning: [W008] Evaluating Span.similarity based on empty vectors.\n",
      "  \"__main__\", mod_spec)\n",
      "/usr/local/lib/python3.7/runpy.py:193: UserWarning: [W008] Evaluating Span.similarity based on empty vectors.\n",
      "  \"__main__\", mod_spec)\n",
      "/usr/local/lib/python3.7/runpy.py:193: UserWarning: [W008] Evaluating Span.similarity based on empty vectors.\n",
      "  \"__main__\", mod_spec)\n",
      "/usr/local/lib/python3.7/runpy.py:193: UserWarning: [W008] Evaluating Span.similarity based on empty vectors.\n",
      "  \"__main__\", mod_spec)\n",
      "/usr/local/lib/python3.7/runpy.py:193: UserWarning: [W008] Evaluating Span.similarity based on empty vectors.\n",
      "  \"__main__\", mod_spec)\n",
      "/usr/local/lib/python3.7/runpy.py:193: UserWarning: [W008] Evaluating Span.similarity based on empty vectors.\n",
      "  \"__main__\", mod_spec)\n",
      "/usr/local/lib/python3.7/runpy.py:193: UserWarning: [W008] Evaluating Span.similarity based on empty vectors.\n",
      "  \"__main__\", mod_spec)\n"
     ]
    },
    {
     "name": "stdout",
     "output_type": "stream",
     "text": [
      "\n",
      "\n",
      "Subdoc 0: The green car is below Waterman Street in the building to the on right of the Stephen Robert 62 Campus Center.\n",
      "Using new doc? False\n",
      "Swapping:\n",
      "  before swap: \"The green car is below Waterman Street in the building to the on right of the Stephen Robert 62 Campus Center.\"\n",
      "  after swap: \"The green car is below Waterman Street in the building to the on right of the Stephen Robert 62 Campus Center.\"\n",
      "Substituting symbols back to original sentence:\n",
      "  \"The GreenToyota is with below of WatermanSt in the building to the on with right of StephenRobertCenter.\"\n",
      "[('GreenToyota', green car)]\n",
      "[('WatermanSt', Waterman Street), ('StephenRobertCenter', the Stephen Robert 62 Campus Center)]\n",
      "Printing dependency tree\n",
      "                      (ROOT) is                                             \n",
      "  ________________________|________________________________________          \n",
      " |         |         (prep) with         |            |       (prep) with   \n",
      " |         |              |              |            |            |         \n",
      " |         |         (pobj) below    (prep) in    (prep) to   (pobj) right  \n",
      " |         |              |              |            |            |         \n",
      " |  (nsubj) GreenToy  (prep) of   (pobj) building (pobj) on    (prep) of    \n",
      " |        ota             |              |            |            |        \n",
      " |         |              |              |            |            |         \n",
      " .        The         WatermanSt        the          the    StephenRobertCen\n",
      "                                                                  ter       \n",
      "\n",
      "Spatial Graph for Subdoc 0\n",
      "{'entities': ['GreenToyota', 'StephenRobertCenter', 'WatermanSt'], 'relations': [('GreenToyota', 'WatermanSt', 'is with below of'), ('GreenToyota', 'StephenRobertCenter', 'is with right of')], 'lang': 'The GreenToyota is with below of WatermanSt in the building to the on with right of StephenRobertCenter.'}\n",
      "---Edges---\n",
      "{0: #0[<#0(GreenToyota)>is with right of<#1(StephenRobertCenter)>], 1: #1[<#0(GreenToyota)>is with below of<#2(WatermanSt)>]}\n",
      "---Graph to Dict---\n",
      "{'entities': ['GreenToyota', 'StephenRobertCenter', 'WatermanSt'],\n",
      " 'lang': 'The GreenToyota is with below of WatermanSt in the building to the '\n",
      "         'on with right of StephenRobertCenter.',\n",
      " 'relations': [('GreenToyota', 'StephenRobertCenter', 'is with right of'),\n",
      "               ('GreenToyota', 'WatermanSt', 'is with below of')]}\n"
     ]
    },
    {
     "name": "stderr",
     "output_type": "stream",
     "text": [
      "/usr/local/lib/python3.7/runpy.py:193: UserWarning: [W008] Evaluating Span.similarity based on empty vectors.\n",
      "  \"__main__\", mod_spec)\n",
      "/usr/local/lib/python3.7/runpy.py:193: UserWarning: [W008] Evaluating Span.similarity based on empty vectors.\n",
      "  \"__main__\", mod_spec)\n",
      "/usr/local/lib/python3.7/runpy.py:193: UserWarning: [W008] Evaluating Span.similarity based on empty vectors.\n",
      "  \"__main__\", mod_spec)\n",
      "/usr/local/lib/python3.7/runpy.py:193: UserWarning: [W008] Evaluating Span.similarity based on empty vectors.\n",
      "  \"__main__\", mod_spec)\n",
      "/usr/local/lib/python3.7/runpy.py:193: UserWarning: [W008] Evaluating Span.similarity based on empty vectors.\n",
      "  \"__main__\", mod_spec)\n",
      "/usr/local/lib/python3.7/runpy.py:193: UserWarning: [W008] Evaluating Span.similarity based on empty vectors.\n",
      "  \"__main__\", mod_spec)\n",
      "/usr/local/lib/python3.7/runpy.py:193: UserWarning: [W008] Evaluating Span.similarity based on empty vectors.\n",
      "  \"__main__\", mod_spec)\n",
      "/usr/local/lib/python3.7/runpy.py:193: UserWarning: [W008] Evaluating Span.similarity based on empty vectors.\n",
      "  \"__main__\", mod_spec)\n",
      "/usr/local/lib/python3.7/runpy.py:193: UserWarning: [W008] Evaluating Span.similarity based on empty vectors.\n",
      "  \"__main__\", mod_spec)\n",
      "/usr/local/lib/python3.7/runpy.py:193: UserWarning: [W008] Evaluating Span.similarity based on empty vectors.\n",
      "  \"__main__\", mod_spec)\n",
      "/usr/local/lib/python3.7/runpy.py:193: UserWarning: [W008] Evaluating Span.similarity based on empty vectors.\n",
      "  \"__main__\", mod_spec)\n",
      "/usr/local/lib/python3.7/runpy.py:193: UserWarning: [W008] Evaluating Span.similarity based on empty vectors.\n",
      "  \"__main__\", mod_spec)\n",
      "/usr/local/lib/python3.7/runpy.py:193: UserWarning: [W008] Evaluating Span.similarity based on empty vectors.\n",
      "  \"__main__\", mod_spec)\n",
      "/usr/local/lib/python3.7/runpy.py:193: UserWarning: [W008] Evaluating Span.similarity based on empty vectors.\n",
      "  \"__main__\", mod_spec)\n",
      "/usr/local/lib/python3.7/runpy.py:193: UserWarning: [W008] Evaluating Span.similarity based on empty vectors.\n",
      "  \"__main__\", mod_spec)\n"
     ]
    }
   ],
   "source": [
    "try_lang(lang10, \"faunce\")"
   ]
  },
  {
   "cell_type": "markdown",
   "metadata": {},
   "source": [
    "### Sentence 11: the bike is east of campus center and south of waterman street"
   ]
  },
  {
   "cell_type": "code",
   "execution_count": 47,
   "metadata": {},
   "outputs": [],
   "source": [
    "lang11 = \" the bike is east of campus center and south of waterman street\""
   ]
  },
  {
   "cell_type": "code",
   "execution_count": 48,
   "metadata": {},
   "outputs": [
    {
     "name": "stdout",
     "output_type": "stream",
     "text": [
      "Swapping:\n",
      "  before swap: \" the bike is east of campus center and south of waterman street\"\n",
      "  after swap: \" the bike is east of campus center and south of waterman street\"\n",
      "Substituting symbols back to original sentence:\n",
      "  \"RedBike is with east of StephenRobertCenter and with south of WatermanSt\""
     ]
    },
    {
     "name": "stderr",
     "output_type": "stream",
     "text": [
      "/usr/local/lib/python3.7/runpy.py:193: UserWarning: [W008] Evaluating Span.similarity based on empty vectors.\n",
      "  \"__main__\", mod_spec)\n",
      "/usr/local/lib/python3.7/runpy.py:193: UserWarning: [W008] Evaluating Span.similarity based on empty vectors.\n",
      "  \"__main__\", mod_spec)\n",
      "/usr/local/lib/python3.7/runpy.py:193: UserWarning: [W008] Evaluating Span.similarity based on empty vectors.\n",
      "  \"__main__\", mod_spec)\n",
      "/usr/local/lib/python3.7/runpy.py:193: UserWarning: [W008] Evaluating Span.similarity based on empty vectors.\n",
      "  \"__main__\", mod_spec)\n",
      "/usr/local/lib/python3.7/runpy.py:193: UserWarning: [W008] Evaluating Span.similarity based on empty vectors.\n",
      "  \"__main__\", mod_spec)\n",
      "/usr/local/lib/python3.7/runpy.py:193: UserWarning: [W008] Evaluating Span.similarity based on empty vectors.\n",
      "  \"__main__\", mod_spec)\n",
      "/usr/local/lib/python3.7/runpy.py:193: UserWarning: [W008] Evaluating Span.similarity based on empty vectors.\n",
      "  \"__main__\", mod_spec)\n",
      "/usr/local/lib/python3.7/runpy.py:193: UserWarning: [W008] Evaluating Span.similarity based on empty vectors.\n",
      "  \"__main__\", mod_spec)\n",
      "/usr/local/lib/python3.7/runpy.py:193: UserWarning: [W008] Evaluating Span.similarity based on empty vectors.\n",
      "  \"__main__\", mod_spec)\n",
      "/usr/local/lib/python3.7/runpy.py:193: UserWarning: [W008] Evaluating Span.similarity based on empty vectors.\n",
      "  \"__main__\", mod_spec)\n",
      "/usr/local/lib/python3.7/runpy.py:193: UserWarning: [W008] Evaluating Span.similarity based on empty vectors.\n",
      "  \"__main__\", mod_spec)\n",
      "/usr/local/lib/python3.7/runpy.py:193: UserWarning: [W008] Evaluating Span.similarity based on empty vectors.\n",
      "  \"__main__\", mod_spec)\n",
      "/usr/local/lib/python3.7/runpy.py:193: UserWarning: [W008] Evaluating Span.similarity based on empty vectors.\n",
      "  \"__main__\", mod_spec)\n",
      "/usr/local/lib/python3.7/runpy.py:193: UserWarning: [W008] Evaluating Span.similarity based on empty vectors.\n",
      "  \"__main__\", mod_spec)\n",
      "/usr/local/lib/python3.7/runpy.py:193: UserWarning: [W008] Evaluating Span.similarity based on empty vectors.\n",
      "  \"__main__\", mod_spec)\n"
     ]
    },
    {
     "name": "stdout",
     "output_type": "stream",
     "text": [
      "\n",
      "\n",
      "Subdoc 0:  the bike is east of campus center and south of waterman street\n",
      "Using new doc? False\n",
      "Swapping:\n",
      "  before swap: \" the bike is east of campus center and south of waterman street\"\n",
      "  after swap: \" the bike is east of campus center and south of waterman street\"\n",
      "Substituting symbols back to original sentence:\n",
      "  \"RedBike is with east of StephenRobertCenter and with south of WatermanSt\"\n",
      "[('RedBike',  the bike)]\n",
      "[('StephenRobertCenter', campus center), ('WatermanSt', waterman street)]\n",
      "Printing dependency tree\n",
      "            (ROOT) is                              \n",
      "    ____________|____________                       \n",
      "   |                    (prep) with                \n",
      "   |      ___________________|______________        \n",
      "   |     |                   |         (conj) with \n",
      "   |     |                   |              |       \n",
      "   |     |              (pobj) east    (pobj) south\n",
      "   |     |                   |              |       \n",
      "   |     |               (prep) of      (prep) of  \n",
      "   |     |                   |              |       \n",
      "RedBike and           StephenRobertCen  WatermanSt \n",
      "                            ter                    \n",
      "\n",
      "Spatial Graph for Subdoc 0\n",
      "{'entities': ['StephenRobertCenter', 'RedBike', 'WatermanSt'], 'relations': [('RedBike', 'StephenRobertCenter', 'is with east of'), ('RedBike', 'WatermanSt', 'is with with south of')], 'lang': 'RedBike is with east of StephenRobertCenter and with south of WatermanSt'}\n",
      "---Edges---\n",
      "{0: #0[<#1(RedBike)>is with with south of<#2(WatermanSt)>], 1: #1[<#1(RedBike)>is with east of<#0(StephenRobertCenter)>]}\n",
      "---Graph to Dict---\n",
      "{'entities': ['StephenRobertCenter', 'RedBike', 'WatermanSt'],\n",
      " 'lang': 'RedBike is with east of StephenRobertCenter and with south of '\n",
      "         'WatermanSt',\n",
      " 'relations': [('RedBike', 'WatermanSt', 'is with with south of'),\n",
      "               ('RedBike', 'StephenRobertCenter', 'is with east of')]}\n"
     ]
    },
    {
     "name": "stderr",
     "output_type": "stream",
     "text": [
      "/usr/local/lib/python3.7/runpy.py:193: UserWarning: [W008] Evaluating Span.similarity based on empty vectors.\n",
      "  \"__main__\", mod_spec)\n",
      "/usr/local/lib/python3.7/runpy.py:193: UserWarning: [W008] Evaluating Span.similarity based on empty vectors.\n",
      "  \"__main__\", mod_spec)\n",
      "/usr/local/lib/python3.7/runpy.py:193: UserWarning: [W008] Evaluating Span.similarity based on empty vectors.\n",
      "  \"__main__\", mod_spec)\n",
      "/usr/local/lib/python3.7/runpy.py:193: UserWarning: [W008] Evaluating Span.similarity based on empty vectors.\n",
      "  \"__main__\", mod_spec)\n",
      "/usr/local/lib/python3.7/runpy.py:193: UserWarning: [W008] Evaluating Span.similarity based on empty vectors.\n",
      "  \"__main__\", mod_spec)\n",
      "/usr/local/lib/python3.7/runpy.py:193: UserWarning: [W008] Evaluating Span.similarity based on empty vectors.\n",
      "  \"__main__\", mod_spec)\n",
      "/usr/local/lib/python3.7/runpy.py:193: UserWarning: [W008] Evaluating Span.similarity based on empty vectors.\n",
      "  \"__main__\", mod_spec)\n",
      "/usr/local/lib/python3.7/runpy.py:193: UserWarning: [W008] Evaluating Span.similarity based on empty vectors.\n",
      "  \"__main__\", mod_spec)\n",
      "/usr/local/lib/python3.7/runpy.py:193: UserWarning: [W008] Evaluating Span.similarity based on empty vectors.\n",
      "  \"__main__\", mod_spec)\n",
      "/usr/local/lib/python3.7/runpy.py:193: UserWarning: [W008] Evaluating Span.similarity based on empty vectors.\n",
      "  \"__main__\", mod_spec)\n",
      "/usr/local/lib/python3.7/runpy.py:193: UserWarning: [W008] Evaluating Span.similarity based on empty vectors.\n",
      "  \"__main__\", mod_spec)\n",
      "/usr/local/lib/python3.7/runpy.py:193: UserWarning: [W008] Evaluating Span.similarity based on empty vectors.\n",
      "  \"__main__\", mod_spec)\n",
      "/usr/local/lib/python3.7/runpy.py:193: UserWarning: [W008] Evaluating Span.similarity based on empty vectors.\n",
      "  \"__main__\", mod_spec)\n",
      "/usr/local/lib/python3.7/runpy.py:193: UserWarning: [W008] Evaluating Span.similarity based on empty vectors.\n",
      "  \"__main__\", mod_spec)\n",
      "/usr/local/lib/python3.7/runpy.py:193: UserWarning: [W008] Evaluating Span.similarity based on empty vectors.\n",
      "  \"__main__\", mod_spec)\n"
     ]
    }
   ],
   "source": [
    "try_lang(lang11, \"faunce\")"
   ]
  },
  {
   "cell_type": "markdown",
   "metadata": {},
   "source": [
    "### Sentence 12: The red car is on Waterman Street and the green car is at the Stephen Robert Campus Center."
   ]
  },
  {
   "cell_type": "code",
   "execution_count": 50,
   "metadata": {},
   "outputs": [],
   "source": [
    "lang12 = \"The red car is on Waterman Street and the green car is at the Stephen Robert Campus Center.\""
   ]
  },
  {
   "cell_type": "code",
   "execution_count": 51,
   "metadata": {},
   "outputs": [
    {
     "name": "stdout",
     "output_type": "stream",
     "text": [
      "Swapping:\n",
      "  before swap: \"The red car is on Waterman Street and the green car is at the Stephen Robert Campus Center.\"\n",
      "  after swap: \"The red car is on Waterman Street and the green car is at the Stephen Robert Campus Center.\"\n",
      "Substituting symbols back to original sentence:\n",
      "  \"The BlueHonda is on WatermanSt and the GreenToyota is at StephenRobertCenter.\"\n",
      "\n",
      "Subdoc 0: The BlueHonda is on WatermanSt \n",
      "Using new doc? True\n",
      "Printing dependency tree\n",
      "                 (ROOT) is           \n",
      "        _____________|_________       \n",
      "(nsubj) BlueHond           (prep) on \n",
      "       a                       |     \n",
      "       |                       |      \n",
      "      The                  WatermanSt\n",
      "\n",
      "Spatial Graph for Subdoc 0\n",
      "{'entities': ['WatermanSt', 'BlueHonda'], 'relations': [('BlueHonda', 'WatermanSt', 'is on')], 'lang': 'The BlueHonda is on WatermanSt '}\n",
      "\n",
      "Subdoc 1: the GreenToyota is at StephenRobertCenter.\n",
      "Using new doc? True\n",
      "Printing dependency tree\n",
      "        (dep) is                     \n",
      "  _________|________________          \n",
      " |  (nsubj) GreenToy    (prep) at    \n",
      " |        ota               |        \n",
      " |         |                |         \n",
      " .        the        StephenRobertCen\n",
      "                           ter       \n",
      "\n",
      "Spatial Graph for Subdoc 1\n",
      "{'entities': ['GreenToyota', 'StephenRobertCenter'], 'relations': [('GreenToyota', 'StephenRobertCenter', 'is at')], 'lang': 'the GreenToyota is at StephenRobertCenter.'}\n",
      "---Edges---\n",
      "{1: #1[<#1(BlueHonda)>is on<#3(WatermanSt)>], 0: #0[<#0(GreenToyota)>is at<#2(StephenRobertCenter)>]}\n",
      "---Graph to Dict---\n",
      "{'entities': ['GreenToyota', 'BlueHonda', 'StephenRobertCenter', 'WatermanSt'],\n",
      " 'lang': 'The BlueHonda is on WatermanSt . the GreenToyota is at '\n",
      "         'StephenRobertCenter.',\n",
      " 'relations': [('GreenToyota', 'StephenRobertCenter', 'is at'),\n",
      "               ('BlueHonda', 'WatermanSt', 'is on')]}\n"
     ]
    },
    {
     "name": "stderr",
     "output_type": "stream",
     "text": [
      "/usr/local/lib/python3.7/runpy.py:193: UserWarning: [W008] Evaluating Span.similarity based on empty vectors.\n",
      "  \"__main__\", mod_spec)\n",
      "/usr/local/lib/python3.7/runpy.py:193: UserWarning: [W008] Evaluating Span.similarity based on empty vectors.\n",
      "  \"__main__\", mod_spec)\n",
      "/usr/local/lib/python3.7/runpy.py:193: UserWarning: [W008] Evaluating Span.similarity based on empty vectors.\n",
      "  \"__main__\", mod_spec)\n",
      "/usr/local/lib/python3.7/runpy.py:193: UserWarning: [W008] Evaluating Span.similarity based on empty vectors.\n",
      "  \"__main__\", mod_spec)\n",
      "/usr/local/lib/python3.7/runpy.py:193: UserWarning: [W008] Evaluating Span.similarity based on empty vectors.\n",
      "  \"__main__\", mod_spec)\n",
      "/usr/local/lib/python3.7/runpy.py:193: UserWarning: [W008] Evaluating Span.similarity based on empty vectors.\n",
      "  \"__main__\", mod_spec)\n",
      "/usr/local/lib/python3.7/runpy.py:193: UserWarning: [W008] Evaluating Span.similarity based on empty vectors.\n",
      "  \"__main__\", mod_spec)\n",
      "/usr/local/lib/python3.7/runpy.py:193: UserWarning: [W008] Evaluating Span.similarity based on empty vectors.\n",
      "  \"__main__\", mod_spec)\n",
      "/usr/local/lib/python3.7/runpy.py:193: UserWarning: [W008] Evaluating Span.similarity based on empty vectors.\n",
      "  \"__main__\", mod_spec)\n",
      "/usr/local/lib/python3.7/runpy.py:193: UserWarning: [W008] Evaluating Span.similarity based on empty vectors.\n",
      "  \"__main__\", mod_spec)\n",
      "/usr/local/lib/python3.7/runpy.py:193: UserWarning: [W008] Evaluating Span.similarity based on empty vectors.\n",
      "  \"__main__\", mod_spec)\n",
      "/usr/local/lib/python3.7/runpy.py:193: UserWarning: [W008] Evaluating Span.similarity based on empty vectors.\n",
      "  \"__main__\", mod_spec)\n"
     ]
    }
   ],
   "source": [
    "try_lang(lang12, \"faunce\")"
   ]
  },
  {
   "cell_type": "markdown",
   "metadata": {},
   "source": [
    "### Sentence 13: \"The red bike is on Waterman,. and the Brown Bear is where the green car is."
   ]
  },
  {
   "cell_type": "code",
   "execution_count": 52,
   "metadata": {},
   "outputs": [],
   "source": [
    "lang13 = \"The red bike is on Waterman,. and the Brown Bear is where the green car is.\""
   ]
  },
  {
   "cell_type": "code",
   "execution_count": 53,
   "metadata": {},
   "outputs": [
    {
     "name": "stdout",
     "output_type": "stream",
     "text": [
      "Swapping:\n",
      "  before swap: \"The red bike is on Waterman,. and the Brown Bear is where the green car is.\"\n",
      "  after swap: \"The red bike is on Waterman,. and the Brown Bear is where the green car is.\"\n",
      "Substituting symbols back to original sentence:\n",
      "  \"The RedBike is on WatermanSt,. and BrownBear is where the GreenToyota is.\"\n",
      "\n",
      "Subdoc 0: The red bike is on Waterman,. \n",
      "Using new doc? False\n",
      "Swapping:\n",
      "  before swap: \"The red bike is on Waterman,. \"\n",
      "  after swap: \"The red bike is on Waterman,. \"\n"
     ]
    },
    {
     "name": "stderr",
     "output_type": "stream",
     "text": [
      "/usr/local/lib/python3.7/runpy.py:193: UserWarning: [W008] Evaluating Span.similarity based on empty vectors.\n",
      "  \"__main__\", mod_spec)\n",
      "/usr/local/lib/python3.7/runpy.py:193: UserWarning: [W008] Evaluating Span.similarity based on empty vectors.\n",
      "  \"__main__\", mod_spec)\n",
      "/usr/local/lib/python3.7/runpy.py:193: UserWarning: [W008] Evaluating Span.similarity based on empty vectors.\n",
      "  \"__main__\", mod_spec)\n",
      "/usr/local/lib/python3.7/runpy.py:193: UserWarning: [W008] Evaluating Span.similarity based on empty vectors.\n",
      "  \"__main__\", mod_spec)\n",
      "/usr/local/lib/python3.7/runpy.py:193: UserWarning: [W008] Evaluating Span.similarity based on empty vectors.\n",
      "  \"__main__\", mod_spec)\n",
      "/usr/local/lib/python3.7/runpy.py:193: UserWarning: [W008] Evaluating Span.similarity based on empty vectors.\n",
      "  \"__main__\", mod_spec)\n",
      "/usr/local/lib/python3.7/runpy.py:193: UserWarning: [W008] Evaluating Span.similarity based on empty vectors.\n",
      "  \"__main__\", mod_spec)\n",
      "/usr/local/lib/python3.7/runpy.py:193: UserWarning: [W008] Evaluating Span.similarity based on empty vectors.\n",
      "  \"__main__\", mod_spec)\n",
      "/usr/local/lib/python3.7/runpy.py:193: UserWarning: [W008] Evaluating Span.similarity based on empty vectors.\n",
      "  \"__main__\", mod_spec)\n",
      "/usr/local/lib/python3.7/runpy.py:193: UserWarning: [W008] Evaluating Span.similarity based on empty vectors.\n",
      "  \"__main__\", mod_spec)\n",
      "/usr/local/lib/python3.7/runpy.py:193: UserWarning: [W008] Evaluating Span.similarity based on empty vectors.\n",
      "  \"__main__\", mod_spec)\n",
      "/usr/local/lib/python3.7/runpy.py:193: UserWarning: [W008] Evaluating Span.similarity based on empty vectors.\n",
      "  \"__main__\", mod_spec)\n",
      "/usr/local/lib/python3.7/runpy.py:193: UserWarning: [W008] Evaluating Span.similarity based on empty vectors.\n",
      "  \"__main__\", mod_spec)\n"
     ]
    },
    {
     "name": "stdout",
     "output_type": "stream",
     "text": [
      "Substituting symbols back to original sentence:\n",
      "  \"The RedBike is on WatermanSt,. \"\n",
      "[('RedBike', red bike)]\n",
      "[('WatermanSt', Waterman)]\n",
      "Printing dependency tree\n",
      "    (ROOT) is                           \n",
      "  ______|_________________________       \n",
      " |      |     (nsubj) RedBike (prep) on \n",
      " |      |            |            |      \n",
      " ,      .           The       WatermanSt\n",
      "\n",
      "Spatial Graph for Subdoc 0\n",
      "{'entities': ['RedBike', 'WatermanSt'], 'relations': [('RedBike', 'WatermanSt', 'is on')], 'lang': 'The RedBike is on WatermanSt,. '}\n",
      "\n",
      "Subdoc 1: and the Brown Bear is where the green car is.\n",
      "Using new doc? False\n",
      "Swapping:\n",
      "  before swap: \"and the Brown Bear is where the green car is.\"\n",
      "  after swap: \"and the Brown Bear is where the green car is.\"\n",
      "Substituting symbols back to original sentence:\n",
      "  \"and BrownBear is where the GreenToyota is.\"\n",
      "[('GreenToyota', green car)]\n",
      "[('BrownBear', the Brown Bear)]\n",
      "Printing dependency tree\n",
      "              (ROOT) is                                  \n",
      "  ________________|_______________                        \n",
      " |      |         |           (ccomp) is                 \n",
      " |      |         |        _______|_____________          \n",
      " |      |         |       |              (nsubj) GreenToy\n",
      " |      |         |       |                    ota       \n",
      " |      |         |       |                     |         \n",
      "and BrownBear     .     where                  the       \n",
      "\n",
      "Spatial Graph for Subdoc 1\n",
      "{'entities': ['GreenToyota', 'BrownBear'], 'relations': [('GreenToyota', 'BrownBear', 'is is')], 'lang': 'and BrownBear is where the GreenToyota is.'}\n",
      "---Edges---\n",
      "{1: #1[<#0(GreenToyota)>is is<#1(BrownBear)>], 0: #0[<#2(RedBike)>is on<#3(WatermanSt)>]}\n",
      "---Graph to Dict---\n",
      "{'entities': ['GreenToyota', 'BrownBear', 'RedBike', 'WatermanSt'],\n",
      " 'lang': 'The RedBike is on WatermanSt,. . and BrownBear is where the '\n",
      "         'GreenToyota is.',\n",
      " 'relations': [('RedBike', 'WatermanSt', 'is on'),\n",
      "               ('GreenToyota', 'BrownBear', 'is is')]}\n"
     ]
    },
    {
     "name": "stderr",
     "output_type": "stream",
     "text": [
      "/usr/local/lib/python3.7/runpy.py:193: UserWarning: [W008] Evaluating Span.similarity based on empty vectors.\n",
      "  \"__main__\", mod_spec)\n",
      "/usr/local/lib/python3.7/runpy.py:193: UserWarning: [W008] Evaluating Span.similarity based on empty vectors.\n",
      "  \"__main__\", mod_spec)\n",
      "/usr/local/lib/python3.7/runpy.py:193: UserWarning: [W008] Evaluating Span.similarity based on empty vectors.\n",
      "  \"__main__\", mod_spec)\n",
      "/usr/local/lib/python3.7/runpy.py:193: UserWarning: [W008] Evaluating Span.similarity based on empty vectors.\n",
      "  \"__main__\", mod_spec)\n",
      "/usr/local/lib/python3.7/runpy.py:193: UserWarning: [W008] Evaluating Span.similarity based on empty vectors.\n",
      "  \"__main__\", mod_spec)\n",
      "/usr/local/lib/python3.7/runpy.py:193: UserWarning: [W008] Evaluating Span.similarity based on empty vectors.\n",
      "  \"__main__\", mod_spec)\n",
      "/usr/local/lib/python3.7/runpy.py:193: UserWarning: [W008] Evaluating Span.similarity based on empty vectors.\n",
      "  \"__main__\", mod_spec)\n",
      "/usr/local/lib/python3.7/runpy.py:193: UserWarning: [W008] Evaluating Span.similarity based on empty vectors.\n",
      "  \"__main__\", mod_spec)\n",
      "/usr/local/lib/python3.7/runpy.py:193: UserWarning: [W008] Evaluating Span.similarity based on empty vectors.\n",
      "  \"__main__\", mod_spec)\n",
      "/usr/local/lib/python3.7/runpy.py:193: UserWarning: [W008] Evaluating Span.similarity based on empty vectors.\n",
      "  \"__main__\", mod_spec)\n",
      "/usr/local/lib/python3.7/runpy.py:193: UserWarning: [W008] Evaluating Span.similarity based on empty vectors.\n",
      "  \"__main__\", mod_spec)\n"
     ]
    }
   ],
   "source": [
    "try_lang(lang13, \"faunce\")"
   ]
  },
  {
   "cell_type": "markdown",
   "metadata": {},
   "source": [
    "### Sentence 14: \"The red bike is at intersection between Washington Street and Dorrance Street\""
   ]
  },
  {
   "cell_type": "code",
   "execution_count": 54,
   "metadata": {},
   "outputs": [],
   "source": [
    "lang14 = \"The red bike is at intersection between Washington Street and Dorrance Street\""
   ]
  },
  {
   "cell_type": "code",
   "execution_count": 55,
   "metadata": {},
   "outputs": [
    {
     "name": "stdout",
     "output_type": "stream",
     "text": [
      "Swapping:\n",
      "  before swap: \"The red bike is at intersection between Washington Street and Dorrance Street\"\n",
      "  after swap: \"The red bike is at intersection between Washington Street and Dorrance Street\"\n",
      "Substituting symbols back to original sentence:\n",
      "  \"The RedBike is at intersection with between of WashingtonSt and DorranceSt\"\n",
      "\n",
      "Subdoc 0: The red bike is at intersection between Washington Street and Dorrance Street\n",
      "Using new doc? False\n",
      "Swapping:\n",
      "  before swap: \"The red bike is at intersection between Washington Street and Dorrance Street\"\n",
      "  after swap: \"The red bike is at intersection between Washington Street and Dorrance Street\"\n"
     ]
    },
    {
     "name": "stderr",
     "output_type": "stream",
     "text": [
      "/usr/local/lib/python3.7/runpy.py:193: UserWarning: [W008] Evaluating Span.similarity based on empty vectors.\n",
      "  \"__main__\", mod_spec)\n",
      "/usr/local/lib/python3.7/runpy.py:193: UserWarning: [W008] Evaluating Span.similarity based on empty vectors.\n",
      "  \"__main__\", mod_spec)\n",
      "/usr/local/lib/python3.7/runpy.py:193: UserWarning: [W008] Evaluating Span.similarity based on empty vectors.\n",
      "  \"__main__\", mod_spec)\n",
      "/usr/local/lib/python3.7/runpy.py:193: UserWarning: [W008] Evaluating Span.similarity based on empty vectors.\n",
      "  \"__main__\", mod_spec)\n",
      "/usr/local/lib/python3.7/runpy.py:193: UserWarning: [W008] Evaluating Span.similarity based on empty vectors.\n",
      "  \"__main__\", mod_spec)\n",
      "/usr/local/lib/python3.7/runpy.py:193: UserWarning: [W008] Evaluating Span.similarity based on empty vectors.\n",
      "  \"__main__\", mod_spec)\n",
      "/usr/local/lib/python3.7/runpy.py:193: UserWarning: [W008] Evaluating Span.similarity based on empty vectors.\n",
      "  \"__main__\", mod_spec)\n",
      "/usr/local/lib/python3.7/runpy.py:193: UserWarning: [W008] Evaluating Span.similarity based on empty vectors.\n",
      "  \"__main__\", mod_spec)\n",
      "/usr/local/lib/python3.7/runpy.py:193: UserWarning: [W008] Evaluating Span.similarity based on empty vectors.\n",
      "  \"__main__\", mod_spec)\n",
      "/usr/local/lib/python3.7/runpy.py:193: UserWarning: [W008] Evaluating Span.similarity based on empty vectors.\n",
      "  \"__main__\", mod_spec)\n",
      "/usr/local/lib/python3.7/runpy.py:193: UserWarning: [W008] Evaluating Span.similarity based on empty vectors.\n",
      "  \"__main__\", mod_spec)\n",
      "/usr/local/lib/python3.7/runpy.py:193: UserWarning: [W008] Evaluating Span.similarity based on empty vectors.\n",
      "  \"__main__\", mod_spec)\n",
      "/usr/local/lib/python3.7/runpy.py:193: UserWarning: [W008] Evaluating Span.similarity based on empty vectors.\n",
      "  \"__main__\", mod_spec)\n",
      "/usr/local/lib/python3.7/runpy.py:193: UserWarning: [W008] Evaluating Span.similarity based on empty vectors.\n",
      "  \"__main__\", mod_spec)\n"
     ]
    },
    {
     "name": "stdout",
     "output_type": "stream",
     "text": [
      "Substituting symbols back to original sentence:\n",
      "  \"The RedBike is at intersection with between of WashingtonSt and DorranceSt\"\n",
      "[('RedBike', red bike)]\n",
      "[('WashingtonSt', Washington Street), ('DorranceSt', Dorrance Street)]\n",
      "Printing dependency tree\n",
      "                 (ROOT) is                                  \n",
      "        _____________|__________________                     \n",
      "       |             |             (prep) with              \n",
      "       |             |                  |                    \n",
      "       |             |            (pobj) between            \n",
      "       |             |                  |                    \n",
      "       |             |              (prep) of               \n",
      "       |             |                  |                    \n",
      "(nsubj) RedBike  (prep) at       (pobj) Washingto           \n",
      "       |             |                 nSt                  \n",
      "       |             |         _________|_____________       \n",
      "      The       intersection and                  DorranceSt\n",
      "\n",
      "Spatial Graph for Subdoc 0\n",
      "{'entities': ['WashingtonSt', 'RedBike', 'DorranceSt'], 'relations': [('RedBike', 'WashingtonSt', 'is with between of'), ('RedBike', 'DorranceSt', 'is with between of ')], 'lang': 'The RedBike is at intersection with between of WashingtonSt and DorranceSt'}\n",
      "---Edges---\n",
      "{1: #1[<#1(RedBike)>is with between of<#0(WashingtonSt)>], 0: #0[<#1(RedBike)>is with between of <#2(DorranceSt)>]}\n",
      "---Graph to Dict---\n",
      "{'entities': ['WashingtonSt', 'RedBike', 'DorranceSt'],\n",
      " 'lang': 'The RedBike is at intersection with between of WashingtonSt and '\n",
      "         'DorranceSt',\n",
      " 'relations': [('RedBike', 'DorranceSt', 'is with between of '),\n",
      "               ('RedBike', 'WashingtonSt', 'is with between of')]}\n"
     ]
    },
    {
     "name": "stderr",
     "output_type": "stream",
     "text": [
      "/usr/local/lib/python3.7/runpy.py:193: UserWarning: [W008] Evaluating Span.similarity based on empty vectors.\n",
      "  \"__main__\", mod_spec)\n",
      "/usr/local/lib/python3.7/runpy.py:193: UserWarning: [W008] Evaluating Span.similarity based on empty vectors.\n",
      "  \"__main__\", mod_spec)\n"
     ]
    }
   ],
   "source": [
    "try_lang(lang14, \"dorrance\")"
   ]
  },
  {
   "cell_type": "markdown",
   "metadata": {},
   "source": [
    "### Sentence 15: \"The green car is near 7-Eleven on the right side of Fulton Street\""
   ]
  },
  {
   "cell_type": "code",
   "execution_count": 58,
   "metadata": {},
   "outputs": [],
   "source": [
    "lang15 = \"The green car is near 7-Eleven on the right side of Fulton Street\""
   ]
  },
  {
   "cell_type": "code",
   "execution_count": 59,
   "metadata": {},
   "outputs": [
    {
     "name": "stdout",
     "output_type": "stream",
     "text": [
      "Swapping:\n",
      "  before swap: \"The green car is near 7-Eleven on the right side of Fulton Street\"\n",
      "  after swap: \"The green car is near 7-Eleven on the right side of Fulton Street\"\n",
      "Substituting symbols back to original sentence:\n",
      "  \"The GreenToyota is with near of SevenEleven on the with right of with side of FultonSt\"\n",
      "\n",
      "Subdoc 0: The green car is near 7-Eleven on the right side of Fulton Street\n",
      "Using new doc? False\n",
      "Swapping:\n",
      "  before swap: \"The green car is near 7-Eleven on the right side of Fulton Street\"\n",
      "  after swap: \"The green car is near 7-Eleven on the right side of Fulton Street\"\n"
     ]
    },
    {
     "name": "stderr",
     "output_type": "stream",
     "text": [
      "/usr/local/lib/python3.7/runpy.py:193: UserWarning: [W008] Evaluating Span.similarity based on empty vectors.\n",
      "  \"__main__\", mod_spec)\n",
      "/usr/local/lib/python3.7/runpy.py:193: UserWarning: [W008] Evaluating Span.similarity based on empty vectors.\n",
      "  \"__main__\", mod_spec)\n",
      "/usr/local/lib/python3.7/runpy.py:193: UserWarning: [W008] Evaluating Span.similarity based on empty vectors.\n",
      "  \"__main__\", mod_spec)\n",
      "/usr/local/lib/python3.7/runpy.py:193: UserWarning: [W008] Evaluating Span.similarity based on empty vectors.\n",
      "  \"__main__\", mod_spec)\n",
      "/usr/local/lib/python3.7/runpy.py:193: UserWarning: [W008] Evaluating Span.similarity based on empty vectors.\n",
      "  \"__main__\", mod_spec)\n",
      "/usr/local/lib/python3.7/runpy.py:193: UserWarning: [W008] Evaluating Span.similarity based on empty vectors.\n",
      "  \"__main__\", mod_spec)\n",
      "/usr/local/lib/python3.7/runpy.py:193: UserWarning: [W008] Evaluating Span.similarity based on empty vectors.\n",
      "  \"__main__\", mod_spec)\n",
      "/usr/local/lib/python3.7/runpy.py:193: UserWarning: [W008] Evaluating Span.similarity based on empty vectors.\n",
      "  \"__main__\", mod_spec)\n",
      "/usr/local/lib/python3.7/runpy.py:193: UserWarning: [W008] Evaluating Span.similarity based on empty vectors.\n",
      "  \"__main__\", mod_spec)\n",
      "/usr/local/lib/python3.7/runpy.py:193: UserWarning: [W008] Evaluating Span.similarity based on empty vectors.\n",
      "  \"__main__\", mod_spec)\n",
      "/usr/local/lib/python3.7/runpy.py:193: UserWarning: [W008] Evaluating Span.similarity based on empty vectors.\n",
      "  \"__main__\", mod_spec)\n",
      "/usr/local/lib/python3.7/runpy.py:193: UserWarning: [W008] Evaluating Span.similarity based on empty vectors.\n",
      "  \"__main__\", mod_spec)\n",
      "/usr/local/lib/python3.7/runpy.py:193: UserWarning: [W008] Evaluating Span.similarity based on empty vectors.\n",
      "  \"__main__\", mod_spec)\n"
     ]
    },
    {
     "name": "stdout",
     "output_type": "stream",
     "text": [
      "Substituting symbols back to original sentence:\n",
      "  \"The GreenToyota is with near of SevenEleven on the with right of with side of FultonSt\"\n",
      "[('GreenToyota', green car)]\n",
      "[('SevenEleven', 7-Eleven), ('FultonSt', Fulton Street)]\n",
      "Printing dependency tree\n",
      "                             (ROOT) is                             \n",
      "        _________________________|______________                    \n",
      "       |              |          |         (prep) with             \n",
      "       |              |          |              |                   \n",
      "       |              |          |         (pobj) right            \n",
      "       |              |          |       _______|____________       \n",
      "       |         (prep) with     |      |               (prep) with\n",
      "       |              |          |      |                    |      \n",
      "       |         (pobj) near     |      |               (pobj) side\n",
      "       |              |          |      |                    |      \n",
      "(nsubj) GreenToy  (prep) of  (prep) on  |                (prep) of \n",
      "      ota             |          |      |                    |     \n",
      "       |              |          |      |                    |      \n",
      "      The        SevenEleven    the     of                FultonSt \n",
      "\n",
      "Spatial Graph for Subdoc 0\n",
      "{'entities': ['GreenToyota', 'SevenEleven', 'FultonSt'], 'relations': [('GreenToyota', 'SevenEleven', 'is with near of'), ('GreenToyota', 'FultonSt', 'is with right with side of')], 'lang': 'The GreenToyota is with near of SevenEleven on the with right of with side of FultonSt'}\n",
      "---Edges---\n",
      "{0: #0[<#0(GreenToyota)>is with right with side of<#2(FultonSt)>], 1: #1[<#0(GreenToyota)>is with near of<#1(SevenEleven)>]}\n",
      "---Graph to Dict---\n",
      "{'entities': ['GreenToyota', 'SevenEleven', 'FultonSt'],\n",
      " 'lang': 'The GreenToyota is with near of SevenEleven on the with right of '\n",
      "         'with side of FultonSt',\n",
      " 'relations': [('GreenToyota', 'FultonSt', 'is with right with side of'),\n",
      "               ('GreenToyota', 'SevenEleven', 'is with near of')]}\n"
     ]
    },
    {
     "name": "stderr",
     "output_type": "stream",
     "text": [
      "/usr/local/lib/python3.7/runpy.py:193: UserWarning: [W008] Evaluating Span.similarity based on empty vectors.\n",
      "  \"__main__\", mod_spec)\n",
      "/usr/local/lib/python3.7/runpy.py:193: UserWarning: [W008] Evaluating Span.similarity based on empty vectors.\n",
      "  \"__main__\", mod_spec)\n",
      "/usr/local/lib/python3.7/runpy.py:193: UserWarning: [W008] Evaluating Span.similarity based on empty vectors.\n",
      "  \"__main__\", mod_spec)\n"
     ]
    }
   ],
   "source": [
    "try_lang(lang15, \"dorrance\")"
   ]
  },
  {
   "cell_type": "markdown",
   "metadata": {},
   "source": [
    "### Sentence 16: \"The red bike is along the path between the parks south of Brown Bear\""
   ]
  },
  {
   "cell_type": "code",
   "execution_count": 60,
   "metadata": {},
   "outputs": [],
   "source": [
    "lang16 = \"The red bike is along the path between the parks south of Brown Bear\""
   ]
  },
  {
   "cell_type": "code",
   "execution_count": 62,
   "metadata": {},
   "outputs": [
    {
     "name": "stdout",
     "output_type": "stream",
     "text": [
      "Swapping:\n",
      "  before swap: \"The red bike is along the path between the parks south of Brown Bear\"\n",
      "  after swap: \"The red bike is along the path between the parks south of Brown Bear\"\n",
      "Substituting symbols back to original sentence:\n",
      "  \"The RedBike is with along of the path with between of the parks with south of BrownBear\"\n",
      "\n",
      "Subdoc 0: The red bike is along the path between the parks south of Brown Bear\n",
      "Using new doc? False\n",
      "Swapping:\n",
      "  before swap: \"The red bike is along the path between the parks south of Brown Bear\"\n",
      "  after swap: \"The red bike is along the path between the parks south of Brown Bear\"\n"
     ]
    },
    {
     "name": "stderr",
     "output_type": "stream",
     "text": [
      "/usr/local/lib/python3.7/runpy.py:193: UserWarning: [W008] Evaluating Span.similarity based on empty vectors.\n",
      "  \"__main__\", mod_spec)\n",
      "/usr/local/lib/python3.7/runpy.py:193: UserWarning: [W008] Evaluating Span.similarity based on empty vectors.\n",
      "  \"__main__\", mod_spec)\n",
      "/usr/local/lib/python3.7/runpy.py:193: UserWarning: [W008] Evaluating Span.similarity based on empty vectors.\n",
      "  \"__main__\", mod_spec)\n",
      "/usr/local/lib/python3.7/runpy.py:193: UserWarning: [W008] Evaluating Span.similarity based on empty vectors.\n",
      "  \"__main__\", mod_spec)\n",
      "/usr/local/lib/python3.7/runpy.py:193: UserWarning: [W008] Evaluating Span.similarity based on empty vectors.\n",
      "  \"__main__\", mod_spec)\n",
      "/usr/local/lib/python3.7/runpy.py:193: UserWarning: [W008] Evaluating Span.similarity based on empty vectors.\n",
      "  \"__main__\", mod_spec)\n",
      "/usr/local/lib/python3.7/runpy.py:193: UserWarning: [W008] Evaluating Span.similarity based on empty vectors.\n",
      "  \"__main__\", mod_spec)\n",
      "/usr/local/lib/python3.7/runpy.py:193: UserWarning: [W008] Evaluating Span.similarity based on empty vectors.\n",
      "  \"__main__\", mod_spec)\n",
      "/usr/local/lib/python3.7/runpy.py:193: UserWarning: [W008] Evaluating Span.similarity based on empty vectors.\n",
      "  \"__main__\", mod_spec)\n",
      "/usr/local/lib/python3.7/runpy.py:193: UserWarning: [W008] Evaluating Span.similarity based on empty vectors.\n",
      "  \"__main__\", mod_spec)\n",
      "/usr/local/lib/python3.7/runpy.py:193: UserWarning: [W008] Evaluating Span.similarity based on empty vectors.\n",
      "  \"__main__\", mod_spec)\n",
      "/usr/local/lib/python3.7/runpy.py:193: UserWarning: [W008] Evaluating Span.similarity based on empty vectors.\n",
      "  \"__main__\", mod_spec)\n",
      "/usr/local/lib/python3.7/runpy.py:193: UserWarning: [W008] Evaluating Span.similarity based on empty vectors.\n",
      "  \"__main__\", mod_spec)\n",
      "/usr/local/lib/python3.7/runpy.py:193: UserWarning: [W008] Evaluating Span.similarity based on empty vectors.\n",
      "  \"__main__\", mod_spec)\n",
      "/usr/local/lib/python3.7/runpy.py:193: UserWarning: [W008] Evaluating Span.similarity based on empty vectors.\n",
      "  \"__main__\", mod_spec)\n",
      "/usr/local/lib/python3.7/runpy.py:193: UserWarning: [W008] Evaluating Span.similarity based on empty vectors.\n",
      "  \"__main__\", mod_spec)\n",
      "/usr/local/lib/python3.7/runpy.py:193: UserWarning: [W008] Evaluating Span.similarity based on empty vectors.\n",
      "  \"__main__\", mod_spec)\n"
     ]
    },
    {
     "name": "stdout",
     "output_type": "stream",
     "text": [
      "Substituting symbols back to original sentence:\n",
      "  \"The RedBike is with along of the path with between of the parks with south of BrownBear\"\n",
      "[('RedBike', red bike)]\n",
      "[('BrownBear', Brown Bear)]\n",
      "Printing dependency tree\n",
      "                      (ROOT) is                                  \n",
      "  ________________________|_________________                      \n",
      " |          |             |            (prep) with               \n",
      " |          |             |                 |                     \n",
      " |          |             |           (pobj) between             \n",
      " |          |             |                 |                     \n",
      " |          |             |             (prep) of                \n",
      " |          |             |                 |                     \n",
      " |          |             |            (pobj) parks              \n",
      " |          |             |         ________|_____________        \n",
      " |          |        (prep) along  |                 (prep) with \n",
      " |          |             |        |                      |       \n",
      " |          |         (prep) of    |                 (pobj) south\n",
      " |          |             |        |                      |       \n",
      " |   (nsubj) RedBike (pobj) path   |                  (prep) of  \n",
      " |          |             |        |                      |       \n",
      "with       The           the      the                 BrownBear  \n",
      "\n",
      "Spatial Graph for Subdoc 0\n",
      "{'entities': ['RedBike', 'BrownBear'], 'relations': [('RedBike', 'BrownBear', 'is with between of parks with south of')], 'lang': 'The RedBike is with along of the path with between of the parks with south of BrownBear'}\n",
      "---Edges---\n",
      "{0: #0[<#0(RedBike)>is with between of parks with south of<#1(BrownBear)>]}\n",
      "---Graph to Dict---\n",
      "{'entities': ['RedBike', 'BrownBear'],\n",
      " 'lang': 'The RedBike is with along of the path with between of the parks with '\n",
      "         'south of BrownBear',\n",
      " 'relations': [('RedBike',\n",
      "                'BrownBear',\n",
      "                'is with between of parks with south of')]}\n"
     ]
    },
    {
     "name": "stderr",
     "output_type": "stream",
     "text": [
      "/usr/local/lib/python3.7/runpy.py:193: UserWarning: [W008] Evaluating Span.similarity based on empty vectors.\n",
      "  \"__main__\", mod_spec)\n",
      "/usr/local/lib/python3.7/runpy.py:193: UserWarning: [W008] Evaluating Span.similarity based on empty vectors.\n",
      "  \"__main__\", mod_spec)\n",
      "/usr/local/lib/python3.7/runpy.py:193: UserWarning: [W008] Evaluating Span.similarity based on empty vectors.\n",
      "  \"__main__\", mod_spec)\n",
      "/usr/local/lib/python3.7/runpy.py:193: UserWarning: [W008] Evaluating Span.similarity based on empty vectors.\n",
      "  \"__main__\", mod_spec)\n",
      "/usr/local/lib/python3.7/runpy.py:193: UserWarning: [W008] Evaluating Span.similarity based on empty vectors.\n",
      "  \"__main__\", mod_spec)\n",
      "/usr/local/lib/python3.7/runpy.py:193: UserWarning: [W008] Evaluating Span.similarity based on empty vectors.\n",
      "  \"__main__\", mod_spec)\n",
      "/usr/local/lib/python3.7/runpy.py:193: UserWarning: [W008] Evaluating Span.similarity based on empty vectors.\n",
      "  \"__main__\", mod_spec)\n"
     ]
    }
   ],
   "source": [
    "try_lang(lang16, \"faunce\")"
   ]
  },
  {
   "cell_type": "markdown",
   "metadata": {},
   "source": [
    "### Sentence 17: \"The bike is right below the Casey Shearer Memorial in front of Salomen Center for Teaching\""
   ]
  },
  {
   "cell_type": "code",
   "execution_count": 63,
   "metadata": {},
   "outputs": [],
   "source": [
    "lang17 = \"The bike is right below the Casey Shearer Memorial in front of Salomen Center for Teaching\"  #Salomen doesn't work!!"
   ]
  },
  {
   "cell_type": "code",
   "execution_count": 65,
   "metadata": {},
   "outputs": [
    {
     "name": "stdout",
     "output_type": "stream",
     "text": [
      "Swapping:\n",
      "  before swap: \"The bike is right below the Casey Shearer Memorial in front of Salomen Center for Teaching\"\n",
      "  after swap: \"The bike is right below the Casey Shearer Memorial in front of Salomen Center for Teaching\"\n",
      "Substituting symbols back to original sentence:\n",
      "  \"The RedBike is with right of with below of CaseyShearerMemorial in front of SalomonTeachingCenter for Teaching\"\n",
      "\n",
      "Subdoc 0: The bike is right below the Casey Shearer Memorial in front of Salomen Center for Teaching\n",
      "Using new doc? False\n",
      "Swapping:\n",
      "  before swap: \"The bike is right below the Casey Shearer Memorial in front of Salomen Center for Teaching\"\n",
      "  after swap: \"The bike is right below the Casey Shearer Memorial in front of Salomen Center for Teaching\"\n",
      "Substituting symbols back to original sentence:\n",
      "  \"The RedBike is with right of with below of CaseyShearerMemorial in front of SalomonTeachingCenter for Teaching\"\n",
      "[('RedBike', bike)]\n",
      "[('CaseyShearerMemorial', the Casey Shearer Memorial), ('SalomonTeachingCenter', Salomen Center)]\n",
      "Printing dependency tree\n",
      "                                     (ROOT) is                                               \n",
      "        _________________________________|_____________________________________________       \n",
      "       |                            (prep) with                      (prep) in         |     \n",
      "       |                                 |                               |             |      \n",
      "       |                            (pobj) below                    (pobj) front       |     \n",
      "       |                     ____________|______________                 |             |      \n",
      "(nsubj) RedBike       (advmod) with                 (prep) of        (prep) of     (prep) for\n",
      "       |           _________|____________               |                |             |      \n",
      "      The       right                    of      CaseyShearerMemo SalomonTeachingC  Teaching \n",
      "                                                       rial            enter                 \n",
      "\n",
      "Spatial Graph for Subdoc 0\n",
      "{'entities': ['CaseyShearerMemorial', 'RedBike', 'SalomonTeachingCenter'], 'relations': [('RedBike', 'CaseyShearerMemorial', 'is with below of'), ('RedBike', 'SalomonTeachingCenter', 'is in front of')], 'lang': 'The RedBike is with right of with below of CaseyShearerMemorial in front of SalomonTeachingCenter for Teaching'}\n",
      "---Edges---\n",
      "{1: #1[<#1(RedBike)>is with below of<#0(CaseyShearerMemorial)>], 0: #0[<#1(RedBike)>is in front of<#2(SalomonTeachingCenter)>]}\n",
      "---Graph to Dict---\n",
      "{'entities': ['CaseyShearerMemorial', 'RedBike', 'SalomonTeachingCenter'],\n",
      " 'lang': 'The RedBike is with right of with below of CaseyShearerMemorial in '\n",
      "         'front of SalomonTeachingCenter for Teaching',\n",
      " 'relations': [('RedBike', 'SalomonTeachingCenter', 'is in front of'),\n",
      "               ('RedBike', 'CaseyShearerMemorial', 'is with below of')]}\n"
     ]
    }
   ],
   "source": [
    "try_lang(lang17, \"faunce\")"
   ]
  },
  {
   "cell_type": "markdown",
   "metadata": {},
   "source": [
    "### Sentence 18: \"The green car is at the Campus center with the red bike on Waterman street, also right next to the Salomon Center is the red Honda.\""
   ]
  },
  {
   "cell_type": "code",
   "execution_count": 78,
   "metadata": {},
   "outputs": [],
   "source": [
    "lang18 = \"Besides the Campus center, the green car is also right below the Salomon Center.\""
   ]
  },
  {
   "cell_type": "code",
   "execution_count": 79,
   "metadata": {},
   "outputs": [
    {
     "name": "stdout",
     "output_type": "stream",
     "text": [
      "Swapping:\n",
      "  before swap: \"Besides the Campus center, the green car is also right below the Salomon Center.\"\n",
      "  after swap: \"Besides the Campus center, the green car is also right below the Salomon Center.\"\n",
      "Substituting symbols back to original sentence:\n",
      "  \"Besides StephenRobertCenter, the GreenToyota is also with right of with below of SalomonTeachingCenter.\"\n",
      "\n",
      "Subdoc 0: Besides the Campus center, the green car is also right below the Salomon Center.\n",
      "Using new doc? False\n",
      "Swapping:\n",
      "  before swap: \"Besides the Campus center, the green car is also right below the Salomon Center.\"\n",
      "  after swap: \"Besides the Campus center, the green car is also right below the Salomon Center.\"\n",
      "Substituting symbols back to original sentence:\n",
      "  \"Besides StephenRobertCenter, the GreenToyota is also with right of with below of SalomonTeachingCenter.\"\n",
      "[('GreenToyota', green car)]\n",
      "[('StephenRobertCenter', the Campus center), ('SalomonTeachingCenter', the Salomon Center)]\n",
      "Printing dependency tree\n",
      "                (ROOT) is                                                          \n",
      "  __________________|______________________________________                         \n",
      " |   |    |         |                |                (prep) with                  \n",
      " |   |    |         |                |                     |                        \n",
      " |   |    |         |                |                (pobj) below                 \n",
      " |   |    |         |                |            _________|______________          \n",
      " |   |    |   (prep) Besides  (nsubj) GreenToy   |   (advmod) with    (prep) of    \n",
      " |   |    |         |               ota          |         |              |        \n",
      " |   |    |         |                |           |         |              |         \n",
      " ,  also  .  StephenRobertCen       the        right       of      SalomonTeachingC\n",
      "                   ter                                                  enter      \n",
      "\n",
      "Spatial Graph for Subdoc 0\n",
      "{'entities': ['GreenToyota', 'StephenRobertCenter', 'SalomonTeachingCenter'], 'relations': [('GreenToyota', 'StephenRobertCenter', 'is Besides'), ('GreenToyota', 'SalomonTeachingCenter', 'is with below of')], 'lang': 'Besides StephenRobertCenter, the GreenToyota is also with right of with below of SalomonTeachingCenter.'}\n",
      "---Edges---\n",
      "{1: #1[<#0(GreenToyota)>is with below of<#2(SalomonTeachingCenter)>], 0: #0[<#0(GreenToyota)>is Besides<#1(StephenRobertCenter)>]}\n",
      "---Graph to Dict---\n",
      "{'entities': ['GreenToyota', 'StephenRobertCenter', 'SalomonTeachingCenter'],\n",
      " 'lang': 'Besides StephenRobertCenter, the GreenToyota is also with right of '\n",
      "         'with below of SalomonTeachingCenter.',\n",
      " 'relations': [('GreenToyota', 'StephenRobertCenter', 'is Besides'),\n",
      "               ('GreenToyota', 'SalomonTeachingCenter', 'is with below of')]}\n"
     ]
    }
   ],
   "source": [
    "try_lang(lang18, \"faunce\")"
   ]
  }
 ],
 "metadata": {
  "kernelspec": {
   "display_name": "Python 3",
   "language": "python",
   "name": "python3"
  },
  "language_info": {
   "codemirror_mode": {
    "name": "ipython",
    "version": 3
   },
   "file_extension": ".py",
   "mimetype": "text/x-python",
   "name": "python",
   "nbconvert_exporter": "python",
   "pygments_lexer": "ipython3",
   "version": "3.7.4"
  }
 },
 "nbformat": 4,
 "nbformat_minor": 2
}
